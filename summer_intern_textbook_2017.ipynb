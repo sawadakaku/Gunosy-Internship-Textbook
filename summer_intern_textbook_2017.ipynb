{
 "cells": [
  {
   "cell_type": "markdown",
   "metadata": {},
   "source": [
    "## Gunosy Summer Internship 2017 データ分析コース"
   ]
  },
  {
   "cell_type": "code",
   "execution_count": 1,
   "metadata": {
    "scrolled": true
   },
   "outputs": [
    {
     "data": {
      "text/html": [
       "<img src=\"https://images.gunosy.com/logo/gunosy_logo.jpg\"/>"
      ],
      "text/plain": [
       "<IPython.core.display.Image object>"
      ]
     },
     "execution_count": 1,
     "metadata": {},
     "output_type": "execute_result"
    }
   ],
   "source": [
    "from IPython.display import Image\n",
    "Image(url='https://images.gunosy.com/logo/gunosy_logo.jpg')"
   ]
  },
  {
   "cell_type": "markdown",
   "metadata": {},
   "source": [
    "## この教科書について\n",
    "-----"
   ]
  },
  {
   "cell_type": "markdown",
   "metadata": {},
   "source": [
    "### 目的"
   ]
  },
  {
   "cell_type": "markdown",
   "metadata": {},
   "source": [
    "今回のインターンシップでは, Gunosyの様々なプロダクトで日々蓄積されている大量のデータを駆使しながら Gunosyで実際に適用されうる, 生かされる課題を分析し課題解決に取り組んでいただきます.<br>\n",
    "皆さまがより有意義な3日間になるよう, あらかじめ今回のインターンシップに参加するにあたり必要な知識・プログラミングについて, 本ノートブックにまとめました.\n",
    "インターンシップ前にこの教科書を参考にしっかりと準備しておいてください.<br>さらに, 練習問題を設けているのでぜひ挑戦してみてください！"
   ]
  },
  {
   "cell_type": "markdown",
   "metadata": {
    "collapsed": true
   },
   "source": [
    "### この教科書で学ぶこと\n",
    "- データ分析ライブラリである `pandas` `numpy` `scikit-learn` に慣れる\n",
    "- 機械学習モデルの生成及び評価までの一連の流れを体得する"
   ]
  },
  {
   "cell_type": "markdown",
   "metadata": {},
   "source": [
    "### 使用するパッケージ\n",
    "- Python==3.5.2\n",
    "- IPython==5.1.0\n",
    "- numpy==1.11.2\n",
    "- pandas==0.20.1\n",
    "- matplotlib==2.0.2\n",
    "- seaborn==0.7.1"
   ]
  },
  {
   "cell_type": "markdown",
   "metadata": {},
   "source": [
    "## 本題 \n",
    "----"
   ]
  },
  {
   "cell_type": "markdown",
   "metadata": {},
   "source": [
    "### 題材 : クレジットカードの不正検出"
   ]
  },
  {
   "cell_type": "markdown",
   "metadata": {},
   "source": [
    "データ分析コンペティションサイトである **[Kaggle](https://www.kaggle.com/)**にて公開されている<br>\n",
    "**[Credit Card Fraud Detection](https://www.kaggle.com/dalpozz/creditcardfraud)**を題材として, データ分析に関する一連の流れを説明していきます<br>\n",
    "#### ※  インターンシップ本番は別の題材です"
   ]
  },
  {
   "cell_type": "markdown",
   "metadata": {},
   "source": [
    "\n",
    "### 目次\n",
    "0. バックグラウンド\n",
    "1. 必要なライブラリのimport, データの読み込み\n",
    "2. データの可視化\n",
    "3. データの整形\n",
    "    - 特徴量の選択/変換\n",
    "    - 不均衡性への対処\n",
    "4. モデルの作成と精度評価\n",
    "5. 作成したモデルによる新データの分類\n",
    "5. 終わりに\n",
    "-----"
   ]
  },
  {
   "cell_type": "markdown",
   "metadata": {},
   "source": [
    "## 1. バックグラウンド"
   ]
  },
  {
   "cell_type": "markdown",
   "metadata": {},
   "source": [
    "ICカードの普及により, クレジットカートの不正利用が年々増加しています. [日本クレジット協会](https://www.google.co.jp/url?sa=t&rct=j&q=&esrc=s&source=web&cd=1&ved=0ahUKEwiE4K_kor_VAhWBVLwKHSZSAFoQFggmMAA&url=http%3A%2F%2Fwww.j-credit.or.jp%2Finformation%2Fstatistics%2F&usg=AFQjCNHSx2VQtw8Uy8vH7YvcZVCsEI6ahQ) による調査報告によると, 2017年第1四半期におけるクレジットカードの不正使用被害額は, 前四半期の1.6倍を超える56億5000万円と報告されています. <br>\n",
    "そのため, カード利用の頻度や額, 場所などの様々な情報からクレジットカードの不正検出技術の実現が期待されています. 今回はヨーロッパのある銀行がKaggle上で公開しているデータを元に, クレジットカード不正検出に挑戦してみましょう！"
   ]
  },
  {
   "cell_type": "markdown",
   "metadata": {},
   "source": [
    "## 2. 必要なライブラリ・データの読み込み"
   ]
  },
  {
   "cell_type": "markdown",
   "metadata": {},
   "source": [
    "#### まずはじめにデータ分析ライブラリである　pandas, numpy, sckit-lerarn, 可視化ライブラリである matplotlib, seabornをimportします "
   ]
  },
  {
   "cell_type": "code",
   "execution_count": 2,
   "metadata": {
    "collapsed": true
   },
   "outputs": [],
   "source": [
    "# notebook上で可視化した図を表示するためのコマンド\n",
    "%matplotlib inline\n",
    "\n",
    "# ライブラリをimport\n",
    "import numpy as np\n",
    "import pandas as pd\n",
    "import matplotlib.pyplot as plt\n",
    "import seaborn as sns"
   ]
  },
  {
   "cell_type": "markdown",
   "metadata": {},
   "source": [
    "#### 次に, 今回利用するデータをダウンロードし, ノートブック上で読み込みます\n",
    " https://www.kaggle.com/dalpozz/creditcardfraud のdowanloadから, データをダウンロードします. <br>\n",
    " 解凍すると `creditcard.csv` というcsvファイルがあるので, このノートブックと同じ階層のフォルダに配置しノートブック上で読み込みましょう. <br>\n",
    " ※ データのダウンロードにはKaggleのアカウントが必要ですので, 別途ご登録お願いします. <br> "
   ]
  },
  {
   "cell_type": "code",
   "execution_count": 3,
   "metadata": {},
   "outputs": [
    {
     "data": {
      "text/html": [
       "<div>\n",
       "<style>\n",
       "    .dataframe thead tr:only-child th {\n",
       "        text-align: right;\n",
       "    }\n",
       "\n",
       "    .dataframe thead th {\n",
       "        text-align: left;\n",
       "    }\n",
       "\n",
       "    .dataframe tbody tr th {\n",
       "        vertical-align: top;\n",
       "    }\n",
       "</style>\n",
       "<table border=\"1\" class=\"dataframe\">\n",
       "  <thead>\n",
       "    <tr style=\"text-align: right;\">\n",
       "      <th></th>\n",
       "      <th>Time</th>\n",
       "      <th>V1</th>\n",
       "      <th>V2</th>\n",
       "      <th>V3</th>\n",
       "      <th>V4</th>\n",
       "      <th>V5</th>\n",
       "      <th>V6</th>\n",
       "      <th>V7</th>\n",
       "      <th>V8</th>\n",
       "      <th>V9</th>\n",
       "      <th>...</th>\n",
       "      <th>V21</th>\n",
       "      <th>V22</th>\n",
       "      <th>V23</th>\n",
       "      <th>V24</th>\n",
       "      <th>V25</th>\n",
       "      <th>V26</th>\n",
       "      <th>V27</th>\n",
       "      <th>V28</th>\n",
       "      <th>Amount</th>\n",
       "      <th>Class</th>\n",
       "    </tr>\n",
       "  </thead>\n",
       "  <tbody>\n",
       "    <tr>\n",
       "      <th>0</th>\n",
       "      <td>0.0</td>\n",
       "      <td>-1.359807</td>\n",
       "      <td>-0.072781</td>\n",
       "      <td>2.536347</td>\n",
       "      <td>1.378155</td>\n",
       "      <td>-0.338321</td>\n",
       "      <td>0.462388</td>\n",
       "      <td>0.239599</td>\n",
       "      <td>0.098698</td>\n",
       "      <td>0.363787</td>\n",
       "      <td>...</td>\n",
       "      <td>-0.018307</td>\n",
       "      <td>0.277838</td>\n",
       "      <td>-0.110474</td>\n",
       "      <td>0.066928</td>\n",
       "      <td>0.128539</td>\n",
       "      <td>-0.189115</td>\n",
       "      <td>0.133558</td>\n",
       "      <td>-0.021053</td>\n",
       "      <td>149.62</td>\n",
       "      <td>0</td>\n",
       "    </tr>\n",
       "    <tr>\n",
       "      <th>1</th>\n",
       "      <td>0.0</td>\n",
       "      <td>1.191857</td>\n",
       "      <td>0.266151</td>\n",
       "      <td>0.166480</td>\n",
       "      <td>0.448154</td>\n",
       "      <td>0.060018</td>\n",
       "      <td>-0.082361</td>\n",
       "      <td>-0.078803</td>\n",
       "      <td>0.085102</td>\n",
       "      <td>-0.255425</td>\n",
       "      <td>...</td>\n",
       "      <td>-0.225775</td>\n",
       "      <td>-0.638672</td>\n",
       "      <td>0.101288</td>\n",
       "      <td>-0.339846</td>\n",
       "      <td>0.167170</td>\n",
       "      <td>0.125895</td>\n",
       "      <td>-0.008983</td>\n",
       "      <td>0.014724</td>\n",
       "      <td>2.69</td>\n",
       "      <td>0</td>\n",
       "    </tr>\n",
       "    <tr>\n",
       "      <th>2</th>\n",
       "      <td>1.0</td>\n",
       "      <td>-1.358354</td>\n",
       "      <td>-1.340163</td>\n",
       "      <td>1.773209</td>\n",
       "      <td>0.379780</td>\n",
       "      <td>-0.503198</td>\n",
       "      <td>1.800499</td>\n",
       "      <td>0.791461</td>\n",
       "      <td>0.247676</td>\n",
       "      <td>-1.514654</td>\n",
       "      <td>...</td>\n",
       "      <td>0.247998</td>\n",
       "      <td>0.771679</td>\n",
       "      <td>0.909412</td>\n",
       "      <td>-0.689281</td>\n",
       "      <td>-0.327642</td>\n",
       "      <td>-0.139097</td>\n",
       "      <td>-0.055353</td>\n",
       "      <td>-0.059752</td>\n",
       "      <td>378.66</td>\n",
       "      <td>0</td>\n",
       "    </tr>\n",
       "    <tr>\n",
       "      <th>3</th>\n",
       "      <td>1.0</td>\n",
       "      <td>-0.966272</td>\n",
       "      <td>-0.185226</td>\n",
       "      <td>1.792993</td>\n",
       "      <td>-0.863291</td>\n",
       "      <td>-0.010309</td>\n",
       "      <td>1.247203</td>\n",
       "      <td>0.237609</td>\n",
       "      <td>0.377436</td>\n",
       "      <td>-1.387024</td>\n",
       "      <td>...</td>\n",
       "      <td>-0.108300</td>\n",
       "      <td>0.005274</td>\n",
       "      <td>-0.190321</td>\n",
       "      <td>-1.175575</td>\n",
       "      <td>0.647376</td>\n",
       "      <td>-0.221929</td>\n",
       "      <td>0.062723</td>\n",
       "      <td>0.061458</td>\n",
       "      <td>123.50</td>\n",
       "      <td>0</td>\n",
       "    </tr>\n",
       "    <tr>\n",
       "      <th>4</th>\n",
       "      <td>2.0</td>\n",
       "      <td>-1.158233</td>\n",
       "      <td>0.877737</td>\n",
       "      <td>1.548718</td>\n",
       "      <td>0.403034</td>\n",
       "      <td>-0.407193</td>\n",
       "      <td>0.095921</td>\n",
       "      <td>0.592941</td>\n",
       "      <td>-0.270533</td>\n",
       "      <td>0.817739</td>\n",
       "      <td>...</td>\n",
       "      <td>-0.009431</td>\n",
       "      <td>0.798278</td>\n",
       "      <td>-0.137458</td>\n",
       "      <td>0.141267</td>\n",
       "      <td>-0.206010</td>\n",
       "      <td>0.502292</td>\n",
       "      <td>0.219422</td>\n",
       "      <td>0.215153</td>\n",
       "      <td>69.99</td>\n",
       "      <td>0</td>\n",
       "    </tr>\n",
       "    <tr>\n",
       "      <th>5</th>\n",
       "      <td>2.0</td>\n",
       "      <td>-0.425966</td>\n",
       "      <td>0.960523</td>\n",
       "      <td>1.141109</td>\n",
       "      <td>-0.168252</td>\n",
       "      <td>0.420987</td>\n",
       "      <td>-0.029728</td>\n",
       "      <td>0.476201</td>\n",
       "      <td>0.260314</td>\n",
       "      <td>-0.568671</td>\n",
       "      <td>...</td>\n",
       "      <td>-0.208254</td>\n",
       "      <td>-0.559825</td>\n",
       "      <td>-0.026398</td>\n",
       "      <td>-0.371427</td>\n",
       "      <td>-0.232794</td>\n",
       "      <td>0.105915</td>\n",
       "      <td>0.253844</td>\n",
       "      <td>0.081080</td>\n",
       "      <td>3.67</td>\n",
       "      <td>0</td>\n",
       "    </tr>\n",
       "    <tr>\n",
       "      <th>6</th>\n",
       "      <td>4.0</td>\n",
       "      <td>1.229658</td>\n",
       "      <td>0.141004</td>\n",
       "      <td>0.045371</td>\n",
       "      <td>1.202613</td>\n",
       "      <td>0.191881</td>\n",
       "      <td>0.272708</td>\n",
       "      <td>-0.005159</td>\n",
       "      <td>0.081213</td>\n",
       "      <td>0.464960</td>\n",
       "      <td>...</td>\n",
       "      <td>-0.167716</td>\n",
       "      <td>-0.270710</td>\n",
       "      <td>-0.154104</td>\n",
       "      <td>-0.780055</td>\n",
       "      <td>0.750137</td>\n",
       "      <td>-0.257237</td>\n",
       "      <td>0.034507</td>\n",
       "      <td>0.005168</td>\n",
       "      <td>4.99</td>\n",
       "      <td>0</td>\n",
       "    </tr>\n",
       "    <tr>\n",
       "      <th>7</th>\n",
       "      <td>7.0</td>\n",
       "      <td>-0.644269</td>\n",
       "      <td>1.417964</td>\n",
       "      <td>1.074380</td>\n",
       "      <td>-0.492199</td>\n",
       "      <td>0.948934</td>\n",
       "      <td>0.428118</td>\n",
       "      <td>1.120631</td>\n",
       "      <td>-3.807864</td>\n",
       "      <td>0.615375</td>\n",
       "      <td>...</td>\n",
       "      <td>1.943465</td>\n",
       "      <td>-1.015455</td>\n",
       "      <td>0.057504</td>\n",
       "      <td>-0.649709</td>\n",
       "      <td>-0.415267</td>\n",
       "      <td>-0.051634</td>\n",
       "      <td>-1.206921</td>\n",
       "      <td>-1.085339</td>\n",
       "      <td>40.80</td>\n",
       "      <td>0</td>\n",
       "    </tr>\n",
       "    <tr>\n",
       "      <th>8</th>\n",
       "      <td>7.0</td>\n",
       "      <td>-0.894286</td>\n",
       "      <td>0.286157</td>\n",
       "      <td>-0.113192</td>\n",
       "      <td>-0.271526</td>\n",
       "      <td>2.669599</td>\n",
       "      <td>3.721818</td>\n",
       "      <td>0.370145</td>\n",
       "      <td>0.851084</td>\n",
       "      <td>-0.392048</td>\n",
       "      <td>...</td>\n",
       "      <td>-0.073425</td>\n",
       "      <td>-0.268092</td>\n",
       "      <td>-0.204233</td>\n",
       "      <td>1.011592</td>\n",
       "      <td>0.373205</td>\n",
       "      <td>-0.384157</td>\n",
       "      <td>0.011747</td>\n",
       "      <td>0.142404</td>\n",
       "      <td>93.20</td>\n",
       "      <td>0</td>\n",
       "    </tr>\n",
       "    <tr>\n",
       "      <th>9</th>\n",
       "      <td>9.0</td>\n",
       "      <td>-0.338262</td>\n",
       "      <td>1.119593</td>\n",
       "      <td>1.044367</td>\n",
       "      <td>-0.222187</td>\n",
       "      <td>0.499361</td>\n",
       "      <td>-0.246761</td>\n",
       "      <td>0.651583</td>\n",
       "      <td>0.069539</td>\n",
       "      <td>-0.736727</td>\n",
       "      <td>...</td>\n",
       "      <td>-0.246914</td>\n",
       "      <td>-0.633753</td>\n",
       "      <td>-0.120794</td>\n",
       "      <td>-0.385050</td>\n",
       "      <td>-0.069733</td>\n",
       "      <td>0.094199</td>\n",
       "      <td>0.246219</td>\n",
       "      <td>0.083076</td>\n",
       "      <td>3.68</td>\n",
       "      <td>0</td>\n",
       "    </tr>\n",
       "  </tbody>\n",
       "</table>\n",
       "<p>10 rows × 31 columns</p>\n",
       "</div>"
      ],
      "text/plain": [
       "   Time        V1        V2        V3        V4        V5        V6        V7  \\\n",
       "0   0.0 -1.359807 -0.072781  2.536347  1.378155 -0.338321  0.462388  0.239599   \n",
       "1   0.0  1.191857  0.266151  0.166480  0.448154  0.060018 -0.082361 -0.078803   \n",
       "2   1.0 -1.358354 -1.340163  1.773209  0.379780 -0.503198  1.800499  0.791461   \n",
       "3   1.0 -0.966272 -0.185226  1.792993 -0.863291 -0.010309  1.247203  0.237609   \n",
       "4   2.0 -1.158233  0.877737  1.548718  0.403034 -0.407193  0.095921  0.592941   \n",
       "5   2.0 -0.425966  0.960523  1.141109 -0.168252  0.420987 -0.029728  0.476201   \n",
       "6   4.0  1.229658  0.141004  0.045371  1.202613  0.191881  0.272708 -0.005159   \n",
       "7   7.0 -0.644269  1.417964  1.074380 -0.492199  0.948934  0.428118  1.120631   \n",
       "8   7.0 -0.894286  0.286157 -0.113192 -0.271526  2.669599  3.721818  0.370145   \n",
       "9   9.0 -0.338262  1.119593  1.044367 -0.222187  0.499361 -0.246761  0.651583   \n",
       "\n",
       "         V8        V9  ...         V21       V22       V23       V24  \\\n",
       "0  0.098698  0.363787  ...   -0.018307  0.277838 -0.110474  0.066928   \n",
       "1  0.085102 -0.255425  ...   -0.225775 -0.638672  0.101288 -0.339846   \n",
       "2  0.247676 -1.514654  ...    0.247998  0.771679  0.909412 -0.689281   \n",
       "3  0.377436 -1.387024  ...   -0.108300  0.005274 -0.190321 -1.175575   \n",
       "4 -0.270533  0.817739  ...   -0.009431  0.798278 -0.137458  0.141267   \n",
       "5  0.260314 -0.568671  ...   -0.208254 -0.559825 -0.026398 -0.371427   \n",
       "6  0.081213  0.464960  ...   -0.167716 -0.270710 -0.154104 -0.780055   \n",
       "7 -3.807864  0.615375  ...    1.943465 -1.015455  0.057504 -0.649709   \n",
       "8  0.851084 -0.392048  ...   -0.073425 -0.268092 -0.204233  1.011592   \n",
       "9  0.069539 -0.736727  ...   -0.246914 -0.633753 -0.120794 -0.385050   \n",
       "\n",
       "        V25       V26       V27       V28  Amount  Class  \n",
       "0  0.128539 -0.189115  0.133558 -0.021053  149.62      0  \n",
       "1  0.167170  0.125895 -0.008983  0.014724    2.69      0  \n",
       "2 -0.327642 -0.139097 -0.055353 -0.059752  378.66      0  \n",
       "3  0.647376 -0.221929  0.062723  0.061458  123.50      0  \n",
       "4 -0.206010  0.502292  0.219422  0.215153   69.99      0  \n",
       "5 -0.232794  0.105915  0.253844  0.081080    3.67      0  \n",
       "6  0.750137 -0.257237  0.034507  0.005168    4.99      0  \n",
       "7 -0.415267 -0.051634 -1.206921 -1.085339   40.80      0  \n",
       "8  0.373205 -0.384157  0.011747  0.142404   93.20      0  \n",
       "9 -0.069733  0.094199  0.246219  0.083076    3.68      0  \n",
       "\n",
       "[10 rows x 31 columns]"
      ]
     },
     "execution_count": 3,
     "metadata": {},
     "output_type": "execute_result"
    }
   ],
   "source": [
    "# csvファイルの読み込み\n",
    "df = pd.read_csv('creditcard.csv')\n",
    "\n",
    "# indexの新しい方から１０個表示してみます\n",
    "df.head(10)"
   ]
  },
  {
   "cell_type": "markdown",
   "metadata": {},
   "source": [
    "__各カラムの説明を下記に引用します__\n",
    "\n",
    ">It contains only numerical input variables which are the result of a PCA transformation. Unfortunately, due to confidentiality issues, we cannot >provide the original features and more background information about the data. Features V1, V2, ... V28 are the principal components obtained >with PCA, the only features which have not been transformed with PCA are 'Time' and 'Amount'. Feature 'Time' contains the seconds elapsed >between each transaction and the first transaction in the dataset. The feature 'Amount' is the transaction Amount, this feature can be used for >example-dependant cost-senstive learning. Feature 'Class' is the response variable and it takes value 1 in case of fraud and 0 otherwise."
   ]
  },
  {
   "cell_type": "markdown",
   "metadata": {},
   "source": [
    "まとめると\n",
    "- V1~V28はconfidentialな特徴量を[PCA](https://ja.wikipedia.org/wiki/%E4%B8%BB%E6%88%90%E5%88%86%E5%88%86%E6%9E%90) で変換された特徴量になっています(使用した場所や暗証番号を間違えた数, 登録者の属性などでしょうかね)\n",
    "- `Time` は, データセットの中で一番最初の取引からの経過\"秒数\" を表しています\n",
    "- `Amount` はクレジットカードの使用額\n",
    "- `Class` は正解ラベルです. 1が不正利用, 0が通常取引を表しています"
   ]
  },
  {
   "cell_type": "markdown",
   "metadata": {},
   "source": [
    "## 3. データの確認/可視化\n",
    "いきなり機械学習モデルに適用してしまってはそのモデルが適切かは分からず, 良くありません. まずデータを可視化することで, どのような特徴・傾向があるかを調査しましょう"
   ]
  },
  {
   "cell_type": "markdown",
   "metadata": {},
   "source": [
    "### データの確認"
   ]
  },
  {
   "cell_type": "markdown",
   "metadata": {},
   "source": [
    "まずデータに欠損値や異常値がないかを確認します"
   ]
  },
  {
   "cell_type": "code",
   "execution_count": 4,
   "metadata": {},
   "outputs": [
    {
     "data": {
      "text/plain": [
       "Index(['Time', 'V1', 'V2', 'V3', 'V4', 'V5', 'V6', 'V7', 'V8', 'V9', 'V10',\n",
       "       'V11', 'V12', 'V13', 'V14', 'V15', 'V16', 'V17', 'V18', 'V19', 'V20',\n",
       "       'V21', 'V22', 'V23', 'V24', 'V25', 'V26', 'V27', 'V28', 'Amount',\n",
       "       'Class'],\n",
       "      dtype='object')"
      ]
     },
     "execution_count": 4,
     "metadata": {},
     "output_type": "execute_result"
    }
   ],
   "source": [
    "df.columns"
   ]
  },
  {
   "cell_type": "code",
   "execution_count": 5,
   "metadata": {},
   "outputs": [
    {
     "data": {
      "text/html": [
       "<div>\n",
       "<style>\n",
       "    .dataframe thead tr:only-child th {\n",
       "        text-align: right;\n",
       "    }\n",
       "\n",
       "    .dataframe thead th {\n",
       "        text-align: left;\n",
       "    }\n",
       "\n",
       "    .dataframe tbody tr th {\n",
       "        vertical-align: top;\n",
       "    }\n",
       "</style>\n",
       "<table border=\"1\" class=\"dataframe\">\n",
       "  <thead>\n",
       "    <tr style=\"text-align: right;\">\n",
       "      <th></th>\n",
       "      <th></th>\n",
       "      <th></th>\n",
       "      <th></th>\n",
       "      <th></th>\n",
       "      <th></th>\n",
       "      <th></th>\n",
       "      <th></th>\n",
       "      <th></th>\n",
       "      <th></th>\n",
       "      <th></th>\n",
       "      <th></th>\n",
       "      <th></th>\n",
       "      <th></th>\n",
       "      <th></th>\n",
       "      <th></th>\n",
       "      <th></th>\n",
       "      <th></th>\n",
       "      <th></th>\n",
       "      <th></th>\n",
       "      <th></th>\n",
       "      <th></th>\n",
       "      <th></th>\n",
       "      <th></th>\n",
       "      <th></th>\n",
       "      <th></th>\n",
       "      <th></th>\n",
       "      <th></th>\n",
       "      <th></th>\n",
       "      <th></th>\n",
       "      <th></th>\n",
       "      <th>count</th>\n",
       "    </tr>\n",
       "    <tr>\n",
       "      <th>Time</th>\n",
       "      <th>V1</th>\n",
       "      <th>V2</th>\n",
       "      <th>V3</th>\n",
       "      <th>V4</th>\n",
       "      <th>V5</th>\n",
       "      <th>V6</th>\n",
       "      <th>V7</th>\n",
       "      <th>V8</th>\n",
       "      <th>V9</th>\n",
       "      <th>V10</th>\n",
       "      <th>V11</th>\n",
       "      <th>V12</th>\n",
       "      <th>V13</th>\n",
       "      <th>V14</th>\n",
       "      <th>V15</th>\n",
       "      <th>V16</th>\n",
       "      <th>V17</th>\n",
       "      <th>V18</th>\n",
       "      <th>V19</th>\n",
       "      <th>V20</th>\n",
       "      <th>V21</th>\n",
       "      <th>V22</th>\n",
       "      <th>V23</th>\n",
       "      <th>V24</th>\n",
       "      <th>V25</th>\n",
       "      <th>V26</th>\n",
       "      <th>V27</th>\n",
       "      <th>V28</th>\n",
       "      <th>Amount</th>\n",
       "      <th>Class</th>\n",
       "      <th></th>\n",
       "    </tr>\n",
       "  </thead>\n",
       "  <tbody>\n",
       "    <tr>\n",
       "      <th>False</th>\n",
       "      <th>False</th>\n",
       "      <th>False</th>\n",
       "      <th>False</th>\n",
       "      <th>False</th>\n",
       "      <th>False</th>\n",
       "      <th>False</th>\n",
       "      <th>False</th>\n",
       "      <th>False</th>\n",
       "      <th>False</th>\n",
       "      <th>False</th>\n",
       "      <th>False</th>\n",
       "      <th>False</th>\n",
       "      <th>False</th>\n",
       "      <th>False</th>\n",
       "      <th>False</th>\n",
       "      <th>False</th>\n",
       "      <th>False</th>\n",
       "      <th>False</th>\n",
       "      <th>False</th>\n",
       "      <th>False</th>\n",
       "      <th>False</th>\n",
       "      <th>False</th>\n",
       "      <th>False</th>\n",
       "      <th>False</th>\n",
       "      <th>False</th>\n",
       "      <th>False</th>\n",
       "      <th>False</th>\n",
       "      <th>False</th>\n",
       "      <th>False</th>\n",
       "      <th>False</th>\n",
       "      <td>284807</td>\n",
       "    </tr>\n",
       "  </tbody>\n",
       "</table>\n",
       "</div>"
      ],
      "text/plain": [
       "                                                                                                                                                                                             count\n",
       "Time  V1    V2    V3    V4    V5    V6    V7    V8    V9    V10   V11   V12   V13   V14   V15   V16   V17   V18   V19   V20   V21   V22   V23   V24   V25   V26   V27   V28   Amount Class        \n",
       "False False False False False False False False False False False False False False False False False False False False False False False False False False False False False False  False  284807"
      ]
     },
     "execution_count": 5,
     "metadata": {},
     "output_type": "execute_result"
    }
   ],
   "source": [
    "# 欠損している場合に True とする\n",
    "missing = df.apply(pd.isnull, axis=0)\n",
    "missing['count'] = 1\n",
    "# 各カラムをGroup By することで, Trueの数(欠損しているレコード)を確認する\n",
    "missing.groupby(['Time', 'V1', 'V2', 'V3', 'V4', 'V5', 'V6', 'V7', 'V8', 'V9', 'V10',\n",
    "       'V11', 'V12', 'V13', 'V14', 'V15', 'V16', 'V17', 'V18', 'V19', 'V20',\n",
    "       'V21', 'V22', 'V23', 'V24', 'V25', 'V26', 'V27', 'V28', 'Amount',\n",
    "       'Class']).sum()"
   ]
  },
  {
   "cell_type": "markdown",
   "metadata": {},
   "source": [
    "`True` が含まれているカラムは一つもないことから, 今回のデータは欠損しているレコードはなさそうです"
   ]
  },
  {
   "cell_type": "markdown",
   "metadata": {},
   "source": [
    "次に, 各カラムの統計量を確認してみましょう"
   ]
  },
  {
   "cell_type": "code",
   "execution_count": 6,
   "metadata": {},
   "outputs": [
    {
     "data": {
      "text/html": [
       "<div>\n",
       "<style>\n",
       "    .dataframe thead tr:only-child th {\n",
       "        text-align: right;\n",
       "    }\n",
       "\n",
       "    .dataframe thead th {\n",
       "        text-align: left;\n",
       "    }\n",
       "\n",
       "    .dataframe tbody tr th {\n",
       "        vertical-align: top;\n",
       "    }\n",
       "</style>\n",
       "<table border=\"1\" class=\"dataframe\">\n",
       "  <thead>\n",
       "    <tr style=\"text-align: right;\">\n",
       "      <th></th>\n",
       "      <th>Time</th>\n",
       "      <th>V1</th>\n",
       "      <th>V2</th>\n",
       "      <th>V3</th>\n",
       "      <th>V4</th>\n",
       "      <th>V5</th>\n",
       "      <th>V6</th>\n",
       "      <th>V7</th>\n",
       "      <th>V8</th>\n",
       "      <th>V9</th>\n",
       "      <th>...</th>\n",
       "      <th>V21</th>\n",
       "      <th>V22</th>\n",
       "      <th>V23</th>\n",
       "      <th>V24</th>\n",
       "      <th>V25</th>\n",
       "      <th>V26</th>\n",
       "      <th>V27</th>\n",
       "      <th>V28</th>\n",
       "      <th>Amount</th>\n",
       "      <th>Class</th>\n",
       "    </tr>\n",
       "  </thead>\n",
       "  <tbody>\n",
       "    <tr>\n",
       "      <th>count</th>\n",
       "      <td>284807.000000</td>\n",
       "      <td>2.848070e+05</td>\n",
       "      <td>2.848070e+05</td>\n",
       "      <td>2.848070e+05</td>\n",
       "      <td>2.848070e+05</td>\n",
       "      <td>2.848070e+05</td>\n",
       "      <td>2.848070e+05</td>\n",
       "      <td>2.848070e+05</td>\n",
       "      <td>2.848070e+05</td>\n",
       "      <td>2.848070e+05</td>\n",
       "      <td>...</td>\n",
       "      <td>2.848070e+05</td>\n",
       "      <td>2.848070e+05</td>\n",
       "      <td>2.848070e+05</td>\n",
       "      <td>2.848070e+05</td>\n",
       "      <td>2.848070e+05</td>\n",
       "      <td>2.848070e+05</td>\n",
       "      <td>2.848070e+05</td>\n",
       "      <td>2.848070e+05</td>\n",
       "      <td>284807.000000</td>\n",
       "      <td>284807.000000</td>\n",
       "    </tr>\n",
       "    <tr>\n",
       "      <th>mean</th>\n",
       "      <td>94813.859575</td>\n",
       "      <td>1.165980e-15</td>\n",
       "      <td>3.416908e-16</td>\n",
       "      <td>-1.373150e-15</td>\n",
       "      <td>2.086869e-15</td>\n",
       "      <td>9.604066e-16</td>\n",
       "      <td>1.490107e-15</td>\n",
       "      <td>-5.556467e-16</td>\n",
       "      <td>1.177556e-16</td>\n",
       "      <td>-2.406455e-15</td>\n",
       "      <td>...</td>\n",
       "      <td>1.656562e-16</td>\n",
       "      <td>-3.444850e-16</td>\n",
       "      <td>2.578648e-16</td>\n",
       "      <td>4.471968e-15</td>\n",
       "      <td>5.340915e-16</td>\n",
       "      <td>1.687098e-15</td>\n",
       "      <td>-3.666453e-16</td>\n",
       "      <td>-1.220404e-16</td>\n",
       "      <td>88.349619</td>\n",
       "      <td>0.001727</td>\n",
       "    </tr>\n",
       "    <tr>\n",
       "      <th>std</th>\n",
       "      <td>47488.145955</td>\n",
       "      <td>1.958696e+00</td>\n",
       "      <td>1.651309e+00</td>\n",
       "      <td>1.516255e+00</td>\n",
       "      <td>1.415869e+00</td>\n",
       "      <td>1.380247e+00</td>\n",
       "      <td>1.332271e+00</td>\n",
       "      <td>1.237094e+00</td>\n",
       "      <td>1.194353e+00</td>\n",
       "      <td>1.098632e+00</td>\n",
       "      <td>...</td>\n",
       "      <td>7.345240e-01</td>\n",
       "      <td>7.257016e-01</td>\n",
       "      <td>6.244603e-01</td>\n",
       "      <td>6.056471e-01</td>\n",
       "      <td>5.212781e-01</td>\n",
       "      <td>4.822270e-01</td>\n",
       "      <td>4.036325e-01</td>\n",
       "      <td>3.300833e-01</td>\n",
       "      <td>250.120109</td>\n",
       "      <td>0.041527</td>\n",
       "    </tr>\n",
       "    <tr>\n",
       "      <th>min</th>\n",
       "      <td>0.000000</td>\n",
       "      <td>-5.640751e+01</td>\n",
       "      <td>-7.271573e+01</td>\n",
       "      <td>-4.832559e+01</td>\n",
       "      <td>-5.683171e+00</td>\n",
       "      <td>-1.137433e+02</td>\n",
       "      <td>-2.616051e+01</td>\n",
       "      <td>-4.355724e+01</td>\n",
       "      <td>-7.321672e+01</td>\n",
       "      <td>-1.343407e+01</td>\n",
       "      <td>...</td>\n",
       "      <td>-3.483038e+01</td>\n",
       "      <td>-1.093314e+01</td>\n",
       "      <td>-4.480774e+01</td>\n",
       "      <td>-2.836627e+00</td>\n",
       "      <td>-1.029540e+01</td>\n",
       "      <td>-2.604551e+00</td>\n",
       "      <td>-2.256568e+01</td>\n",
       "      <td>-1.543008e+01</td>\n",
       "      <td>0.000000</td>\n",
       "      <td>0.000000</td>\n",
       "    </tr>\n",
       "    <tr>\n",
       "      <th>25%</th>\n",
       "      <td>54201.500000</td>\n",
       "      <td>-9.203734e-01</td>\n",
       "      <td>-5.985499e-01</td>\n",
       "      <td>-8.903648e-01</td>\n",
       "      <td>-8.486401e-01</td>\n",
       "      <td>-6.915971e-01</td>\n",
       "      <td>-7.682956e-01</td>\n",
       "      <td>-5.540759e-01</td>\n",
       "      <td>-2.086297e-01</td>\n",
       "      <td>-6.430976e-01</td>\n",
       "      <td>...</td>\n",
       "      <td>-2.283949e-01</td>\n",
       "      <td>-5.423504e-01</td>\n",
       "      <td>-1.618463e-01</td>\n",
       "      <td>-3.545861e-01</td>\n",
       "      <td>-3.171451e-01</td>\n",
       "      <td>-3.269839e-01</td>\n",
       "      <td>-7.083953e-02</td>\n",
       "      <td>-5.295979e-02</td>\n",
       "      <td>5.600000</td>\n",
       "      <td>0.000000</td>\n",
       "    </tr>\n",
       "    <tr>\n",
       "      <th>50%</th>\n",
       "      <td>84692.000000</td>\n",
       "      <td>1.810880e-02</td>\n",
       "      <td>6.548556e-02</td>\n",
       "      <td>1.798463e-01</td>\n",
       "      <td>-1.984653e-02</td>\n",
       "      <td>-5.433583e-02</td>\n",
       "      <td>-2.741871e-01</td>\n",
       "      <td>4.010308e-02</td>\n",
       "      <td>2.235804e-02</td>\n",
       "      <td>-5.142873e-02</td>\n",
       "      <td>...</td>\n",
       "      <td>-2.945017e-02</td>\n",
       "      <td>6.781943e-03</td>\n",
       "      <td>-1.119293e-02</td>\n",
       "      <td>4.097606e-02</td>\n",
       "      <td>1.659350e-02</td>\n",
       "      <td>-5.213911e-02</td>\n",
       "      <td>1.342146e-03</td>\n",
       "      <td>1.124383e-02</td>\n",
       "      <td>22.000000</td>\n",
       "      <td>0.000000</td>\n",
       "    </tr>\n",
       "    <tr>\n",
       "      <th>75%</th>\n",
       "      <td>139320.500000</td>\n",
       "      <td>1.315642e+00</td>\n",
       "      <td>8.037239e-01</td>\n",
       "      <td>1.027196e+00</td>\n",
       "      <td>7.433413e-01</td>\n",
       "      <td>6.119264e-01</td>\n",
       "      <td>3.985649e-01</td>\n",
       "      <td>5.704361e-01</td>\n",
       "      <td>3.273459e-01</td>\n",
       "      <td>5.971390e-01</td>\n",
       "      <td>...</td>\n",
       "      <td>1.863772e-01</td>\n",
       "      <td>5.285536e-01</td>\n",
       "      <td>1.476421e-01</td>\n",
       "      <td>4.395266e-01</td>\n",
       "      <td>3.507156e-01</td>\n",
       "      <td>2.409522e-01</td>\n",
       "      <td>9.104512e-02</td>\n",
       "      <td>7.827995e-02</td>\n",
       "      <td>77.165000</td>\n",
       "      <td>0.000000</td>\n",
       "    </tr>\n",
       "    <tr>\n",
       "      <th>max</th>\n",
       "      <td>172792.000000</td>\n",
       "      <td>2.454930e+00</td>\n",
       "      <td>2.205773e+01</td>\n",
       "      <td>9.382558e+00</td>\n",
       "      <td>1.687534e+01</td>\n",
       "      <td>3.480167e+01</td>\n",
       "      <td>7.330163e+01</td>\n",
       "      <td>1.205895e+02</td>\n",
       "      <td>2.000721e+01</td>\n",
       "      <td>1.559499e+01</td>\n",
       "      <td>...</td>\n",
       "      <td>2.720284e+01</td>\n",
       "      <td>1.050309e+01</td>\n",
       "      <td>2.252841e+01</td>\n",
       "      <td>4.584549e+00</td>\n",
       "      <td>7.519589e+00</td>\n",
       "      <td>3.517346e+00</td>\n",
       "      <td>3.161220e+01</td>\n",
       "      <td>3.384781e+01</td>\n",
       "      <td>25691.160000</td>\n",
       "      <td>1.000000</td>\n",
       "    </tr>\n",
       "  </tbody>\n",
       "</table>\n",
       "<p>8 rows × 31 columns</p>\n",
       "</div>"
      ],
      "text/plain": [
       "                Time            V1            V2            V3            V4  \\\n",
       "count  284807.000000  2.848070e+05  2.848070e+05  2.848070e+05  2.848070e+05   \n",
       "mean    94813.859575  1.165980e-15  3.416908e-16 -1.373150e-15  2.086869e-15   \n",
       "std     47488.145955  1.958696e+00  1.651309e+00  1.516255e+00  1.415869e+00   \n",
       "min         0.000000 -5.640751e+01 -7.271573e+01 -4.832559e+01 -5.683171e+00   \n",
       "25%     54201.500000 -9.203734e-01 -5.985499e-01 -8.903648e-01 -8.486401e-01   \n",
       "50%     84692.000000  1.810880e-02  6.548556e-02  1.798463e-01 -1.984653e-02   \n",
       "75%    139320.500000  1.315642e+00  8.037239e-01  1.027196e+00  7.433413e-01   \n",
       "max    172792.000000  2.454930e+00  2.205773e+01  9.382558e+00  1.687534e+01   \n",
       "\n",
       "                 V5            V6            V7            V8            V9  \\\n",
       "count  2.848070e+05  2.848070e+05  2.848070e+05  2.848070e+05  2.848070e+05   \n",
       "mean   9.604066e-16  1.490107e-15 -5.556467e-16  1.177556e-16 -2.406455e-15   \n",
       "std    1.380247e+00  1.332271e+00  1.237094e+00  1.194353e+00  1.098632e+00   \n",
       "min   -1.137433e+02 -2.616051e+01 -4.355724e+01 -7.321672e+01 -1.343407e+01   \n",
       "25%   -6.915971e-01 -7.682956e-01 -5.540759e-01 -2.086297e-01 -6.430976e-01   \n",
       "50%   -5.433583e-02 -2.741871e-01  4.010308e-02  2.235804e-02 -5.142873e-02   \n",
       "75%    6.119264e-01  3.985649e-01  5.704361e-01  3.273459e-01  5.971390e-01   \n",
       "max    3.480167e+01  7.330163e+01  1.205895e+02  2.000721e+01  1.559499e+01   \n",
       "\n",
       "           ...                 V21           V22           V23           V24  \\\n",
       "count      ...        2.848070e+05  2.848070e+05  2.848070e+05  2.848070e+05   \n",
       "mean       ...        1.656562e-16 -3.444850e-16  2.578648e-16  4.471968e-15   \n",
       "std        ...        7.345240e-01  7.257016e-01  6.244603e-01  6.056471e-01   \n",
       "min        ...       -3.483038e+01 -1.093314e+01 -4.480774e+01 -2.836627e+00   \n",
       "25%        ...       -2.283949e-01 -5.423504e-01 -1.618463e-01 -3.545861e-01   \n",
       "50%        ...       -2.945017e-02  6.781943e-03 -1.119293e-02  4.097606e-02   \n",
       "75%        ...        1.863772e-01  5.285536e-01  1.476421e-01  4.395266e-01   \n",
       "max        ...        2.720284e+01  1.050309e+01  2.252841e+01  4.584549e+00   \n",
       "\n",
       "                V25           V26           V27           V28         Amount  \\\n",
       "count  2.848070e+05  2.848070e+05  2.848070e+05  2.848070e+05  284807.000000   \n",
       "mean   5.340915e-16  1.687098e-15 -3.666453e-16 -1.220404e-16      88.349619   \n",
       "std    5.212781e-01  4.822270e-01  4.036325e-01  3.300833e-01     250.120109   \n",
       "min   -1.029540e+01 -2.604551e+00 -2.256568e+01 -1.543008e+01       0.000000   \n",
       "25%   -3.171451e-01 -3.269839e-01 -7.083953e-02 -5.295979e-02       5.600000   \n",
       "50%    1.659350e-02 -5.213911e-02  1.342146e-03  1.124383e-02      22.000000   \n",
       "75%    3.507156e-01  2.409522e-01  9.104512e-02  7.827995e-02      77.165000   \n",
       "max    7.519589e+00  3.517346e+00  3.161220e+01  3.384781e+01   25691.160000   \n",
       "\n",
       "               Class  \n",
       "count  284807.000000  \n",
       "mean        0.001727  \n",
       "std         0.041527  \n",
       "min         0.000000  \n",
       "25%         0.000000  \n",
       "50%         0.000000  \n",
       "75%         0.000000  \n",
       "max         1.000000  \n",
       "\n",
       "[8 rows x 31 columns]"
      ]
     },
     "execution_count": 6,
     "metadata": {},
     "output_type": "execute_result"
    }
   ],
   "source": [
    "df.describe()"
   ]
  },
  {
   "cell_type": "markdown",
   "metadata": {},
   "source": [
    "`describe` メソッドで簡単に各カラムの統計量を確認することができます.\n",
    "\n",
    "__ここで注目してほしいのが, クラス変数に対応する`Class`カラムです. 二値分類問題のターゲットになる値の平均値が `0.001727` とかなりゼロに寄っていることが確認できます.__\n",
    "\n",
    "\n",
    "__実際に`Class`カラムの 0,1それぞれの値をカウントしてみると, 非常に大きな差異があることがわかります__"
   ]
  },
  {
   "cell_type": "code",
   "execution_count": 7,
   "metadata": {},
   "outputs": [
    {
     "data": {
      "text/plain": [
       "0    284315\n",
       "1       492\n",
       "Name: Class, dtype: int64"
      ]
     },
     "execution_count": 7,
     "metadata": {},
     "output_type": "execute_result"
    }
   ],
   "source": [
    "df['Class'].value_counts()"
   ]
  },
  {
   "cell_type": "markdown",
   "metadata": {},
   "source": [
    "このようなデータは [__不均衡データ__](http://ibisforest.org/index.php?%E4%B8%8D%E5%9D%87%E8%A1%A1%E3%83%87%E3%83%BC%E3%82%BF) と呼ばれ, 実世界における機械学習タスクで頻繁に登場し, 慎重に取り扱う必要があります.　<br>今回の取扱については後述します.\n",
    "\n",
    "\n",
    "### データの可視化"
   ]
  },
  {
   "cell_type": "markdown",
   "metadata": {},
   "source": [
    "次にデータの特徴・傾向を把握するために可視化を行っていきますが, その前にデータの行数を確認しましょう"
   ]
  },
  {
   "cell_type": "code",
   "execution_count": 8,
   "metadata": {},
   "outputs": [
    {
     "data": {
      "text/plain": [
       "284807"
      ]
     },
     "execution_count": 8,
     "metadata": {},
     "output_type": "execute_result"
    }
   ],
   "source": [
    "len(df)"
   ]
  },
  {
   "cell_type": "markdown",
   "metadata": {},
   "source": [
    "約28万行と非常に多くのレコードがあることがわかります. この行数だと可視化に時間がかかってしまいます.<br>\n",
    "すいすいとデータ傾向を把握するために, 一旦データをサンプリングしましょう."
   ]
  },
  {
   "cell_type": "code",
   "execution_count": 9,
   "metadata": {},
   "outputs": [
    {
     "data": {
      "text/plain": [
       "30000"
      ]
     },
     "execution_count": 9,
     "metadata": {},
     "output_type": "execute_result"
    }
   ],
   "source": [
    "# 30,000行ランダムサンプリングする\n",
    "df_sampled = df.sample(n=30000, random_state=3)\n",
    "len(df_sampled)"
   ]
  },
  {
   "cell_type": "markdown",
   "metadata": {},
   "source": [
    "ではサンプリング済みのデータを用いて可視化していきましょう. まず, Class毎に色分けした散布図行列を出力してみましょう. 全カラムを同時に出力すると煩雑になるので, V1~V4を可視化してみましょう."
   ]
  },
  {
   "cell_type": "code",
   "execution_count": 10,
   "metadata": {},
   "outputs": [
    {
     "data": {
      "image/png": "[encoded data removed]",
      "text/plain": [
       "<matplotlib.figure.Figure at 0x10c563b00>"
      ]
     },
     "metadata": {},
     "output_type": "display_data"
    }
   ],
   "source": [
    "#散布図行列\n",
    "sns.pairplot(df_sampled[['Class', 'V1','V2','V3','V4']], hue='Class')\n",
    "plt.show()"
   ]
  },
  {
   "cell_type": "markdown",
   "metadata": {},
   "source": [
    "Classの値によって, かなり偏りがあるのが見て取れますね. "
   ]
  },
  {
   "cell_type": "markdown",
   "metadata": {},
   "source": [
    "データの偏りについてより詳しく見ていくために, 箱ひげ図を出力し分布を確認してみましょう"
   ]
  },
  {
   "cell_type": "code",
   "execution_count": 11,
   "metadata": {},
   "outputs": [
    {
     "data": {
      "image/png": "[encoded data removed]",
      "text/plain": [
       "<matplotlib.figure.Figure at 0x1168022b0>"
      ]
     },
     "metadata": {},
     "output_type": "display_data"
    }
   ],
   "source": [
    "# 箱ひげ図\n",
    "fig, axes = plt.subplots(2, 1)\n",
    "for i, (n, g) in enumerate(df_sampled[['Class','V1','V2','V3', 'V4']].groupby('Class')):\n",
    "    sns.boxplot(data=g.iloc[:, 1:], ax=axes[i])\n",
    "    axes[i].set_ylabel(n)\n",
    "plt.show()"
   ]
  },
  {
   "cell_type": "markdown",
   "metadata": {},
   "source": [
    "可視化によって, データそのものがどのような性質を持っているのか理解する手助けになります. 例えば, 散布図を見ると[外れ値](https://ja.wikipedia.org/wiki/%E5%A4%96%E3%82%8C%E5%80%A4) が見て取れます. 前処理で外れ値を除外するために, 実際に外れ値を検出しましょう."
   ]
  },
  {
   "cell_type": "markdown",
   "metadata": {},
   "source": [
    "-----\n",
    "__練習問題１． scikit-learn を使って外れ値検出を行う__\n",
    "\n",
    "----"
   ]
  },
  {
   "cell_type": "code",
   "execution_count": 12,
   "metadata": {
    "collapsed": true
   },
   "outputs": [],
   "source": [
    "from sklearn.ensemble import IsolationForest"
   ]
  },
  {
   "cell_type": "markdown",
   "metadata": {},
   "source": [
    "Isolation Forestを使用して外れ値の検出を行う。\n",
    "- max_sample: 各分類木の学習時にサンプリングする量。floatで与えたなら総データの割合\n",
    "- contamination: 外れ値と識別する割合\n",
    "- bootstrap: Trueならブートストラップサンプリングをおこなう"
   ]
  },
  {
   "cell_type": "code",
   "execution_count": 13,
   "metadata": {
    "collapsed": true
   },
   "outputs": [],
   "source": [
    "X = df.drop('Class', axis=1).values"
   ]
  },
  {
   "cell_type": "code",
   "execution_count": 14,
   "metadata": {},
   "outputs": [
    {
     "name": "stdout",
     "output_type": "stream",
     "text": [
      "Building estimator 1 of 25 for this parallel run (total 100)...\n",
      "Building estimator 1 of 25 for this parallel run (total 100)...\n",
      "Building estimator 1 of 25 for this parallel run (total 100)...\n",
      "Building estimator 2 of 25 for this parallel run (total 100)...\n",
      "Building estimator 2 of 25 for this parallel run (total 100)...\n",
      "Building estimator 1 of 25 for this parallel run (total 100)...\n",
      "Building estimator 3 of 25 for this parallel run (total 100)...\n",
      "Building estimator 3 of 25 for this parallel run (total 100)...\n",
      "Building estimator 2 of 25 for this parallel run (total 100)...\n",
      "Building estimator 2 of 25 for this parallel run (total 100)...\n",
      "Building estimator 4 of 25 for this parallel run (total 100)...\n",
      "Building estimator 4 of 25 for this parallel run (total 100)...\n",
      "Building estimator 3 of 25 for this parallel run (total 100)...\n",
      "Building estimator 3 of 25 for this parallel run (total 100)...\n",
      "Building estimator 5 of 25 for this parallel run (total 100)...\n",
      "Building estimator 5 of 25 for this parallel run (total 100)...\n",
      "Building estimator 4 of 25 for this parallel run (total 100)...\n",
      "Building estimator 4 of 25 for this parallel run (total 100)...\n",
      "Building estimator 6 of 25 for this parallel run (total 100)...\n",
      "Building estimator 5 of 25 for this parallel run (total 100)...\n",
      "Building estimator 6 of 25 for this parallel run (total 100)...\n",
      "Building estimator 5 of 25 for this parallel run (total 100)...\n",
      "Building estimator 7 of 25 for this parallel run (total 100)...\n",
      "Building estimator 6 of 25 for this parallel run (total 100)...\n",
      "Building estimator 7 of 25 for this parallel run (total 100)...\n",
      "Building estimator 6 of 25 for this parallel run (total 100)...\n",
      "Building estimator 8 of 25 for this parallel run (total 100)...\n",
      "Building estimator 7 of 25 for this parallel run (total 100)...\n",
      "Building estimator 8 of 25 for this parallel run (total 100)...\n",
      "Building estimator 7 of 25 for this parallel run (total 100)...\n",
      "Building estimator 9 of 25 for this parallel run (total 100)...\n",
      "Building estimator 8 of 25 for this parallel run (total 100)...\n",
      "Building estimator 8 of 25 for this parallel run (total 100)...\n",
      "Building estimator 9 of 25 for this parallel run (total 100)...\n",
      "Building estimator 10 of 25 for this parallel run (total 100)...\n",
      "Building estimator 9 of 25 for this parallel run (total 100)...\n",
      "Building estimator 9 of 25 for this parallel run (total 100)...\n",
      "Building estimator 11 of 25 for this parallel run (total 100)...\n",
      "Building estimator 10 of 25 for this parallel run (total 100)...\n",
      "Building estimator 10 of 25 for this parallel run (total 100)...\n",
      "Building estimator 10 of 25 for this parallel run (total 100)...\n",
      "Building estimator 12 of 25 for this parallel run (total 100)...\n",
      "Building estimator 11 of 25 for this parallel run (total 100)...\n",
      "Building estimator 11 of 25 for this parallel run (total 100)...\n",
      "Building estimator 11 of 25 for this parallel run (total 100)...\n",
      "Building estimator 12 of 25 for this parallel run (total 100)...\n",
      "Building estimator 13 of 25 for this parallel run (total 100)...\n",
      "Building estimator 12 of 25 for this parallel run (total 100)...\n",
      "Building estimator 12 of 25 for this parallel run (total 100)...\n",
      "Building estimator 13 of 25 for this parallel run (total 100)...\n",
      "Building estimator 13 of 25 for this parallel run (total 100)...\n",
      "Building estimator 14 of 25 for this parallel run (total 100)...\n",
      "Building estimator 13 of 25 for this parallel run (total 100)...\n",
      "Building estimator 14 of 25 for this parallel run (total 100)...\n",
      "Building estimator 14 of 25 for this parallel run (total 100)...\n",
      "Building estimator 15 of 25 for this parallel run (total 100)...\n",
      "Building estimator 14 of 25 for this parallel run (total 100)...\n",
      "Building estimator 15 of 25 for this parallel run (total 100)...\n",
      "Building estimator 15 of 25 for this parallel run (total 100)...\n",
      "Building estimator 15 of 25 for this parallel run (total 100)...\n",
      "Building estimator 16 of 25 for this parallel run (total 100)...\n",
      "Building estimator 16 of 25 for this parallel run (total 100)...\n",
      "Building estimator 16 of 25 for this parallel run (total 100)...\n",
      "Building estimator 16 of 25 for this parallel run (total 100)...\n",
      "Building estimator 17 of 25 for this parallel run (total 100)...\n",
      "Building estimator 17 of 25 for this parallel run (total 100)...\n",
      "Building estimator 17 of 25 for this parallel run (total 100)...\n",
      "Building estimator 17 of 25 for this parallel run (total 100)...\n",
      "Building estimator 18 of 25 for this parallel run (total 100)...\n",
      "Building estimator 18 of 25 for this parallel run (total 100)...\n",
      "Building estimator 18 of 25 for this parallel run (total 100)...\n",
      "Building estimator 19 of 25 for this parallel run (total 100)...\n",
      "Building estimator 18 of 25 for this parallel run (total 100)...\n",
      "Building estimator 19 of 25 for this parallel run (total 100)...\n",
      "Building estimator 19 of 25 for this parallel run (total 100)...\n",
      "Building estimator 20 of 25 for this parallel run (total 100)...\n",
      "Building estimator 19 of 25 for this parallel run (total 100)...\n",
      "Building estimator 20 of 25 for this parallel run (total 100)...\n",
      "Building estimator 20 of 25 for this parallel run (total 100)...\n",
      "Building estimator 21 of 25 for this parallel run (total 100)...\n",
      "Building estimator 20 of 25 for this parallel run (total 100)...\n",
      "Building estimator 21 of 25 for this parallel run (total 100)...\n",
      "Building estimator 21 of 25 for this parallel run (total 100)...\n",
      "Building estimator 21 of 25 for this parallel run (total 100)...\n",
      "Building estimator 22 of 25 for this parallel run (total 100)...\n",
      "Building estimator 22 of 25 for this parallel run (total 100)...\n",
      "Building estimator 22 of 25 for this parallel run (total 100)...\n",
      "Building estimator 23 of 25 for this parallel run (total 100)...\n",
      "Building estimator 23 of 25 for this parallel run (total 100)...\n",
      "Building estimator 22 of 25 for this parallel run (total 100)...\n",
      "Building estimator 23 of 25 for this parallel run (total 100)...\n",
      "Building estimator 23 of 25 for this parallel run (total 100)...\n",
      "Building estimator 24 of 25 for this parallel run (total 100)...\n",
      "Building estimator 24 of 25 for this parallel run (total 100)...\n",
      "Building estimator 24 of 25 for this parallel run (total 100)...\n",
      "Building estimator 24 of 25 for this parallel run (total 100)...\n",
      "Building estimator 25 of 25 for this parallel run (total 100)...\n",
      "Building estimator 25 of 25 for this parallel run (total 100)...\n",
      "Building estimator 25 of 25 for this parallel run (total 100)...\n",
      "Building estimator 25 of 25 for this parallel run (total 100)...\n"
     ]
    },
    {
     "name": "stderr",
     "output_type": "stream",
     "text": [
      "[Parallel(n_jobs=4)]: Done   4 out of   4 | elapsed:    8.1s finished\n"
     ]
    },
    {
     "data": {
      "text/plain": [
       "IsolationForest(bootstrap=True, contamination=0.0001, max_features=1.0,\n",
       "        max_samples=1.0, n_estimators=100, n_jobs=-1, random_state=None,\n",
       "        verbose=2)"
      ]
     },
     "execution_count": 14,
     "metadata": {},
     "output_type": "execute_result"
    }
   ],
   "source": [
    "clf = IsolationForest(max_samples=1.0, contamination=1e-4, bootstrap=True, n_jobs=-1, verbose=2)\n",
    "clf.fit(X)"
   ]
  },
  {
   "cell_type": "code",
   "execution_count": 15,
   "metadata": {
    "collapsed": true
   },
   "outputs": [],
   "source": [
    "outlier = clf.predict(X)\n",
    "\n",
    "df['Outlier'] = outlier\n",
    "\n",
    "df.loc[(df.Outlier == 1) & (df.Class == 1), 'hue'] = 'Outlier=1, Class=1'\n",
    "df.loc[(df.Outlier == -1) & (df.Class == 1), 'hue'] = 'Outlier=-1, Class=1'\n",
    "df.loc[(df.Outlier == 1) & (df.Class == 0), 'hue'] = 'Outlier=1, Class=0'\n",
    "df.loc[(df.Outlier == -1) & (df.Class == 0), 'hue'] = 'Outlier=-1, Class=0'"
   ]
  },
  {
   "cell_type": "code",
   "execution_count": 16,
   "metadata": {
    "collapsed": true
   },
   "outputs": [],
   "source": [
    "df_sampled = df.sample(n=30000, random_state=3)"
   ]
  },
  {
   "cell_type": "code",
   "execution_count": 17,
   "metadata": {},
   "outputs": [
    {
     "data": {
      "image/png": "[encoded data removed]",
      "text/plain": [
       "<matplotlib.figure.Figure at 0x1157de438>"
      ]
     },
     "metadata": {},
     "output_type": "display_data"
    }
   ],
   "source": [
    "sns.pairplot(df_sampled[['Class', 'V1','V2','V3','V4', 'hue']], hue='hue', vars=['Class', 'V1','V2','V3','V4'])\n",
    "plt.show()"
   ]
  },
  {
   "cell_type": "code",
   "execution_count": 18,
   "metadata": {
    "collapsed": true
   },
   "outputs": [],
   "source": [
    "df_exoutlier = df.loc[df.Outlier == 1]"
   ]
  },
  {
   "cell_type": "markdown",
   "metadata": {},
   "source": [
    "## 4. データの整形\n",
    "\n",
    "ここから実際に予測モデルを作るためにデータを整形していきます.\n",
    "\n",
    "### 特徴量の選択\n",
    "最初に予測に用いる特徴量を選択します.\n",
    "\n",
    "\n",
    "今回は簡単にするために __`Time`と V15~のカラムは使いません__ ので, 不要なカラムは削除します"
   ]
  },
  {
   "cell_type": "code",
   "execution_count": 19,
   "metadata": {
    "collapsed": true
   },
   "outputs": [],
   "source": [
    "drop_columns = [ 'V{}'.format(i)  for  i  in  range(15,29)] + ['Time', 'Outlier', 'hue']\n",
    "df_droped = df_exoutlier.drop(drop_columns, axis=1)"
   ]
  },
  {
   "cell_type": "markdown",
   "metadata": {},
   "source": [
    "### データの分割"
   ]
  },
  {
   "cell_type": "markdown",
   "metadata": {},
   "source": [
    "全てのデータを学習に使ってしまうと, 学習したデータと同じデータを用いて評価を行うことになり, 正しく学習器の性能を評価することができません.<br>\n",
    "そこでデータを` トレーニング用/テスト用`に `80%:20%` 分割しましょう."
   ]
  },
  {
   "cell_type": "code",
   "execution_count": 20,
   "metadata": {},
   "outputs": [
    {
     "data": {
      "text/html": [
       "<div>\n",
       "<style>\n",
       "    .dataframe thead tr:only-child th {\n",
       "        text-align: right;\n",
       "    }\n",
       "\n",
       "    .dataframe thead th {\n",
       "        text-align: left;\n",
       "    }\n",
       "\n",
       "    .dataframe tbody tr th {\n",
       "        vertical-align: top;\n",
       "    }\n",
       "</style>\n",
       "<table border=\"1\" class=\"dataframe\">\n",
       "  <thead>\n",
       "    <tr style=\"text-align: right;\">\n",
       "      <th></th>\n",
       "      <th>V1</th>\n",
       "      <th>V2</th>\n",
       "      <th>V3</th>\n",
       "      <th>V4</th>\n",
       "      <th>V5</th>\n",
       "      <th>V6</th>\n",
       "      <th>V7</th>\n",
       "      <th>V8</th>\n",
       "      <th>V9</th>\n",
       "      <th>V10</th>\n",
       "      <th>V11</th>\n",
       "      <th>V12</th>\n",
       "      <th>V13</th>\n",
       "      <th>V14</th>\n",
       "      <th>Amount</th>\n",
       "      <th>Class</th>\n",
       "    </tr>\n",
       "  </thead>\n",
       "  <tbody>\n",
       "    <tr>\n",
       "      <th>0</th>\n",
       "      <td>-3.209861</td>\n",
       "      <td>-3.498273</td>\n",
       "      <td>2.314816</td>\n",
       "      <td>0.694053</td>\n",
       "      <td>1.669911</td>\n",
       "      <td>-1.293351</td>\n",
       "      <td>-1.451213</td>\n",
       "      <td>0.518363</td>\n",
       "      <td>1.448935</td>\n",
       "      <td>-0.935257</td>\n",
       "      <td>2.270119</td>\n",
       "      <td>-1.732997</td>\n",
       "      <td>1.550653</td>\n",
       "      <td>1.540536</td>\n",
       "      <td>295.63</td>\n",
       "      <td>0</td>\n",
       "    </tr>\n",
       "    <tr>\n",
       "      <th>1</th>\n",
       "      <td>-4.437885</td>\n",
       "      <td>0.637622</td>\n",
       "      <td>-1.703327</td>\n",
       "      <td>0.540550</td>\n",
       "      <td>5.005958</td>\n",
       "      <td>-3.995560</td>\n",
       "      <td>-4.390025</td>\n",
       "      <td>-3.830546</td>\n",
       "      <td>2.013956</td>\n",
       "      <td>1.499367</td>\n",
       "      <td>0.308834</td>\n",
       "      <td>0.057582</td>\n",
       "      <td>-0.390739</td>\n",
       "      <td>-3.043728</td>\n",
       "      <td>1.00</td>\n",
       "      <td>0</td>\n",
       "    </tr>\n",
       "    <tr>\n",
       "      <th>2</th>\n",
       "      <td>1.246559</td>\n",
       "      <td>-0.373828</td>\n",
       "      <td>0.903546</td>\n",
       "      <td>-0.721576</td>\n",
       "      <td>-1.241509</td>\n",
       "      <td>-0.833708</td>\n",
       "      <td>-0.596242</td>\n",
       "      <td>-0.013452</td>\n",
       "      <td>1.874226</td>\n",
       "      <td>-1.069582</td>\n",
       "      <td>-0.497507</td>\n",
       "      <td>0.555637</td>\n",
       "      <td>-0.390265</td>\n",
       "      <td>-0.079257</td>\n",
       "      <td>1.00</td>\n",
       "      <td>0</td>\n",
       "    </tr>\n",
       "    <tr>\n",
       "      <th>3</th>\n",
       "      <td>2.061025</td>\n",
       "      <td>-0.839974</td>\n",
       "      <td>-1.716405</td>\n",
       "      <td>-0.800196</td>\n",
       "      <td>-0.310541</td>\n",
       "      <td>-1.134975</td>\n",
       "      <td>0.037222</td>\n",
       "      <td>-0.388101</td>\n",
       "      <td>-0.904011</td>\n",
       "      <td>0.932413</td>\n",
       "      <td>1.054923</td>\n",
       "      <td>0.461809</td>\n",
       "      <td>0.215287</td>\n",
       "      <td>0.196074</td>\n",
       "      <td>76.86</td>\n",
       "      <td>0</td>\n",
       "    </tr>\n",
       "    <tr>\n",
       "      <th>4</th>\n",
       "      <td>2.034119</td>\n",
       "      <td>-0.038418</td>\n",
       "      <td>-1.160163</td>\n",
       "      <td>0.205164</td>\n",
       "      <td>0.204938</td>\n",
       "      <td>-0.589611</td>\n",
       "      <td>0.135943</td>\n",
       "      <td>-0.204328</td>\n",
       "      <td>0.134144</td>\n",
       "      <td>0.201344</td>\n",
       "      <td>0.904165</td>\n",
       "      <td>1.631250</td>\n",
       "      <td>1.146925</td>\n",
       "      <td>0.236331</td>\n",
       "      <td>1.98</td>\n",
       "      <td>0</td>\n",
       "    </tr>\n",
       "  </tbody>\n",
       "</table>\n",
       "</div>"
      ],
      "text/plain": [
       "         V1        V2        V3        V4        V5        V6        V7  \\\n",
       "0 -3.209861 -3.498273  2.314816  0.694053  1.669911 -1.293351 -1.451213   \n",
       "1 -4.437885  0.637622 -1.703327  0.540550  5.005958 -3.995560 -4.390025   \n",
       "2  1.246559 -0.373828  0.903546 -0.721576 -1.241509 -0.833708 -0.596242   \n",
       "3  2.061025 -0.839974 -1.716405 -0.800196 -0.310541 -1.134975  0.037222   \n",
       "4  2.034119 -0.038418 -1.160163  0.205164  0.204938 -0.589611  0.135943   \n",
       "\n",
       "         V8        V9       V10       V11       V12       V13       V14  \\\n",
       "0  0.518363  1.448935 -0.935257  2.270119 -1.732997  1.550653  1.540536   \n",
       "1 -3.830546  2.013956  1.499367  0.308834  0.057582 -0.390739 -3.043728   \n",
       "2 -0.013452  1.874226 -1.069582 -0.497507  0.555637 -0.390265 -0.079257   \n",
       "3 -0.388101 -0.904011  0.932413  1.054923  0.461809  0.215287  0.196074   \n",
       "4 -0.204328  0.134144  0.201344  0.904165  1.631250  1.146925  0.236331   \n",
       "\n",
       "   Amount  Class  \n",
       "0  295.63      0  \n",
       "1    1.00      0  \n",
       "2    1.00      0  \n",
       "3   76.86      0  \n",
       "4    1.98      0  "
      ]
     },
     "execution_count": 20,
     "metadata": {},
     "output_type": "execute_result"
    }
   ],
   "source": [
    "from sklearn.model_selection import train_test_split\n",
    "\n",
    "# データをトレーニング用/テスト用に分割\n",
    "train_df, test_df = train_test_split(df_droped, test_size = 0.2)\n",
    "# indexをリセットする\n",
    "train_df = train_df.reset_index(drop=True)\n",
    "test_df = test_df.reset_index(drop=True)\n",
    "train_df.head()"
   ]
  },
  {
   "cell_type": "markdown",
   "metadata": {},
   "source": [
    "### 特徴量の変換"
   ]
  },
  {
   "cell_type": "markdown",
   "metadata": {},
   "source": [
    "`Class` カラム以外の各カラムを正規化 ( 訓練データ内の平均が0, 分散が1となるように変換) しましょう. \n",
    "\n",
    "- `from sklearn import preprocessing` を使って訓練データ内の平均と分散を計算 `.fit` メソッド.\n",
    "- それを用いてtrain/testの対応カラムを変換"
   ]
  },
  {
   "cell_type": "code",
   "execution_count": 21,
   "metadata": {
    "collapsed": true
   },
   "outputs": [],
   "source": [
    "from sklearn import preprocessing\n",
    "\n",
    "# 各カラムごとに正規化する\n",
    "for column_name in train_df.columns:    \n",
    "    # Classカラムは正規化しない\n",
    "    if column_name == 'Class':\n",
    "        continue\n",
    "        \n",
    "    # 指定されたカラムを抽出\n",
    "    train_column = train_df[column_name]\n",
    "    test_column = test_df[column_name]\n",
    "    \n",
    "    # trainを用いて平均と分散を計算する\n",
    "    scaler = preprocessing.StandardScaler().fit(train_column.values.reshape(-1, 1))\n",
    "    #  正規化\n",
    "    train_df.loc[:, column_name] = scaler.transform(train_column.values.reshape(-1, 1))\n",
    "    test_df.loc[:, column_name] = scaler.transform(test_column.values.reshape(-1, 1))"
   ]
  },
  {
   "cell_type": "code",
   "execution_count": 22,
   "metadata": {
    "collapsed": true
   },
   "outputs": [],
   "source": [
    "# 正規化済みのデータを保存しておきましょう\n",
    "train_df.to_csv('train.csv')\n",
    "test_df.to_csv('test.csv')"
   ]
  },
  {
   "cell_type": "markdown",
   "metadata": {},
   "source": [
    "### 不均衡性への対策\n",
    "データ内容の確認の際に少し触れた不均衡性についての対策をしておきます. 「不均衡データに対してはこれをやれば良い」と言う正解は存在しませんが, ここではダウンサンプリングを行います.\n",
    "\n",
    "ダウンサンプリングとは, 多いラベルのデータの数をランダムにサンプリングして少ない方のラベルのデータ数に合わせる手法です."
   ]
  },
  {
   "cell_type": "code",
   "execution_count": 23,
   "metadata": {},
   "outputs": [
    {
     "data": {
      "text/plain": [
       "Class\n",
       "0    379\n",
       "1    379\n",
       "dtype: int64"
      ]
     },
     "execution_count": 23,
     "metadata": {},
     "output_type": "execute_result"
    }
   ],
   "source": [
    "np.random.seed(seed=2)\n",
    "\n",
    "# 分離する\n",
    "zero_df = train_df[train_df.Class == 0].reset_index(drop = True)\n",
    "one_df = train_df[train_df.Class == 1].reset_index(drop = True)\n",
    "one_num = len(one_df)\n",
    "\n",
    "# ランダムにサンプリングする\n",
    "zero_df = zero_df.take(np.random.permutation(len(zero_df)))\n",
    "zero_df = zero_df.iloc[:one_num, :].reset_index(drop = True)\n",
    "\n",
    "# mergeする\n",
    "df_downsampled = pd.concat([one_df,zero_df])\n",
    "\n",
    "# 数の確認\n",
    "df_downsampled.groupby('Class').size()"
   ]
  },
  {
   "cell_type": "code",
   "execution_count": 24,
   "metadata": {
    "collapsed": true
   },
   "outputs": [],
   "source": [
    "df_downsampled = df_downsampled.take(np.random.permutation(len(df_downsampled)))\n",
    "# ダウンサンプリング済みのデータも保存しておきましょう\n",
    "df_downsampled.to_csv('downsampled_train.csv')"
   ]
  },
  {
   "cell_type": "markdown",
   "metadata": {},
   "source": [
    "----- \n",
    "\n",
    "## 5. モデルの作成と精度評価\n",
    "\n",
    "### モデルの作成\n",
    "\n",
    "ここまでで基本的な前処理が終わったので, モデルの作成に入っていきます.\n",
    "\n",
    "まずデータをscikit-learnのモデルに当てはめるために, pandas.DataFrameをnumpy.arrayに変換します."
   ]
  },
  {
   "cell_type": "code",
   "execution_count": 25,
   "metadata": {
    "collapsed": true
   },
   "outputs": [],
   "source": [
    "X_train = df_downsampled.drop('Class', axis=1).values\n",
    "y_train = df_downsampled['Class'].values\n",
    "\n",
    "X_test = test_df.drop('Class', axis=1).values\n",
    "y_test = test_df['Class'].values"
   ]
  },
  {
   "cell_type": "markdown",
   "metadata": {},
   "source": [
    "今回はロジスティック回帰を使ってモデルを生成してみましょう"
   ]
  },
  {
   "cell_type": "code",
   "execution_count": 26,
   "metadata": {},
   "outputs": [
    {
     "data": {
      "text/plain": [
       "LogisticRegression(C=1.0, class_weight=None, dual=False, fit_intercept=True,\n",
       "          intercept_scaling=1, max_iter=100, multi_class='ovr', n_jobs=1,\n",
       "          penalty='l2', random_state=None, solver='liblinear', tol=0.0001,\n",
       "          verbose=0, warm_start=False)"
      ]
     },
     "execution_count": 26,
     "metadata": {},
     "output_type": "execute_result"
    }
   ],
   "source": [
    "from sklearn.linear_model import LogisticRegression\n",
    "\n",
    "logistic = LogisticRegression()\n",
    "logistic.fit(X_train, y_train)"
   ]
  },
  {
   "cell_type": "markdown",
   "metadata": {},
   "source": [
    "### 精度評価\n",
    "\n",
    "学習が終わったところで, テストデータ上で精度評価をします.\n",
    "\n",
    "分類問題における精度評価指標は様々ありま. 弊社の[このブログ記事](http://data.gunosy.io/entry/2016/08/05/115345)　が参考になるかと思います.\n",
    "\n",
    "scikit-learnの `classification_report` を用いることで一通り評価する事ができます"
   ]
  },
  {
   "cell_type": "code",
   "execution_count": 27,
   "metadata": {},
   "outputs": [
    {
     "name": "stdout",
     "output_type": "stream",
     "text": [
      "             precision    recall  f1-score   support\n",
      "\n",
      "          0       1.00      0.97      0.99     56849\n",
      "          1       0.06      0.87      0.11       107\n",
      "\n",
      "avg / total       1.00      0.97      0.98     56956\n",
      "\n"
     ]
    }
   ],
   "source": [
    "from sklearn.metrics import classification_report, confusion_matrix\n",
    "print(classification_report(y_test, logistic.predict(X_test)))"
   ]
  },
  {
   "cell_type": "markdown",
   "metadata": {},
   "source": [
    "[__混合行列__ ](http://scikit-learn.org/stable/auto_examples/model_selection/plot_confusion_matrix.html)でも可視化してみましょう<br>\n",
    "※上記リンクで掲載されているサンプルコードを使用しています"
   ]
  },
  {
   "cell_type": "code",
   "execution_count": 28,
   "metadata": {},
   "outputs": [
    {
     "name": "stdout",
     "output_type": "stream",
     "text": [
      "Confusion matrix, without normalization\n",
      "[[55340  1509]\n",
      " [   14    93]]\n",
      "Normalized confusion matrix\n",
      "[[ 0.97  0.03]\n",
      " [ 0.13  0.87]]\n"
     ]
    },
    {
     "data": {
      "image/png": "[encoded data removed]",
      "text/plain": [
       "<matplotlib.figure.Figure at 0x117e66198>"
      ]
     },
     "metadata": {},
     "output_type": "display_data"
    },
    {
     "data": {
      "image/png": "[encoded data removed]",
      "text/plain": [
       "<matplotlib.figure.Figure at 0x1194830b8>"
      ]
     },
     "metadata": {},
     "output_type": "display_data"
    }
   ],
   "source": [
    "import matplotlib.pyplot as plt\n",
    "from sklearn.metrics import confusion_matrix\n",
    "import itertools\n",
    "\n",
    "def plot_confusion_matrix(cm, classes,\n",
    "                          normalize=False,\n",
    "                          title='Confusion matrix',\n",
    "                          cmap=plt.cm.Blues):\n",
    "    \"\"\"\n",
    "    This function prints and plots the confusion matrix.\n",
    "    Normalization can be applied by setting `normalize=True`.\n",
    "    \"\"\"\n",
    "    plt.imshow(cm, interpolation='nearest', cmap=cmap)\n",
    "    plt.title(title)\n",
    "    plt.colorbar()\n",
    "    tick_marks = np.arange(len(classes))\n",
    "    plt.xticks(tick_marks, classes, rotation=45)\n",
    "    plt.yticks(tick_marks, classes)\n",
    "\n",
    "    if normalize:\n",
    "        cm = cm.astype('float') / cm.sum(axis=1)[:, np.newaxis]\n",
    "        print(\"Normalized confusion matrix\")\n",
    "    else:\n",
    "        print('Confusion matrix, without normalization')\n",
    "\n",
    "    print(cm)\n",
    "\n",
    "    thresh = cm.max() / 2.\n",
    "    for i, j in itertools.product(range(cm.shape[0]), range(cm.shape[1])):\n",
    "        plt.text(j, i, cm[i, j],\n",
    "                 horizontalalignment=\"center\",\n",
    "                 color=\"white\" if cm[i, j] > thresh else \"black\")\n",
    "\n",
    "    plt.tight_layout()\n",
    "    plt.ylabel('True label')\n",
    "    plt.xlabel('Predicted label')\n",
    "\n",
    "# Compute confusion matrix\n",
    "cnf_matrix = confusion_matrix(y_test, logistic.predict(X_test))\n",
    "np.set_printoptions(precision=2)\n",
    "\n",
    "# Plot non-normalized confusion matrix\n",
    "plt.figure(figsize=(6, 6))\n",
    "plot_confusion_matrix(cnf_matrix, classes=[i for i in range(2)],\n",
    "                      title='Confusion matrix, without normalization')\n",
    "\n",
    "# Plot normalized confusion matrix\n",
    "plt.figure(figsize=(6, 6))\n",
    "plot_confusion_matrix(cnf_matrix, classes=[i for i in range(2)], normalize=True,\n",
    "                      title='Normalized confusion matrix')\n",
    "\n",
    "plt.show()"
   ]
  },
  {
   "cell_type": "markdown",
   "metadata": {},
   "source": [
    "ご覧の通り, 精度は非常に悪いです. 読者の皆様にはインターン本番に向けてより理解を深めてほしいため, 練習問題を幾つか提示します\n",
    "\n",
    "これらの練習問題をこなすことでインターン本番でも楽しみながら課題に取り組むことができるでしょう. \n",
    "\n",
    "----\n",
    "\n",
    "__練習問題2． ダウンサンプリングを行わず学習させる__\n",
    "\n",
    "__練習問題3． 別のモデルを試す__\n",
    "\n",
    "__練習問題4． scikit-learnでクロスバリデーションを行う__\n",
    "\n",
    "----"
   ]
  },
  {
   "cell_type": "markdown",
   "metadata": {},
   "source": [
    "### オーバーサンプリングを行う"
   ]
  },
  {
   "cell_type": "code",
   "execution_count": 29,
   "metadata": {
    "collapsed": true
   },
   "outputs": [],
   "source": [
    "from imblearn.over_sampling import SMOTE"
   ]
  },
  {
   "cell_type": "code",
   "execution_count": 30,
   "metadata": {
    "collapsed": true
   },
   "outputs": [],
   "source": [
    "X_train = train_df.drop('Class', axis=1).values\n",
    "y_train = train_df['Class'].values\n",
    "\n",
    "sm = SMOTE(random_state=3, ratio = 'auto', k_neighbors=5)\n",
    "X_res, y_res = sm.fit_sample(X_train, y_train)"
   ]
  },
  {
   "cell_type": "code",
   "execution_count": 31,
   "metadata": {},
   "outputs": [
    {
     "data": {
      "text/plain": [
       "array([227443, 227443])"
      ]
     },
     "execution_count": 31,
     "metadata": {},
     "output_type": "execute_result"
    }
   ],
   "source": [
    "np.bincount(y_res)"
   ]
  },
  {
   "cell_type": "code",
   "execution_count": 32,
   "metadata": {
    "scrolled": true
   },
   "outputs": [
    {
     "data": {
      "text/plain": [
       "LogisticRegression(C=1.0, class_weight=None, dual=False, fit_intercept=True,\n",
       "          intercept_scaling=1, max_iter=100, multi_class='ovr', n_jobs=1,\n",
       "          penalty='l2', random_state=None, solver='liblinear', tol=0.0001,\n",
       "          verbose=0, warm_start=False)"
      ]
     },
     "execution_count": 32,
     "metadata": {},
     "output_type": "execute_result"
    }
   ],
   "source": [
    "logistic2 = LogisticRegression()\n",
    "logistic2.fit(X_res, y_res)"
   ]
  },
  {
   "cell_type": "code",
   "execution_count": 33,
   "metadata": {},
   "outputs": [
    {
     "name": "stdout",
     "output_type": "stream",
     "text": [
      "             precision    recall  f1-score   support\n",
      "\n",
      "          0       1.00      0.97      0.99     56849\n",
      "          1       0.06      0.88      0.11       107\n",
      "\n",
      "avg / total       1.00      0.97      0.98     56956\n",
      "\n"
     ]
    }
   ],
   "source": [
    "print(classification_report(y_test, logistic2.predict(X_test)))"
   ]
  },
  {
   "cell_type": "code",
   "execution_count": 34,
   "metadata": {},
   "outputs": [
    {
     "name": "stdout",
     "output_type": "stream",
     "text": [
      "Confusion matrix, without normalization\n",
      "[[55337  1512]\n",
      " [   13    94]]\n",
      "Normalized confusion matrix\n",
      "[[ 0.97  0.03]\n",
      " [ 0.12  0.88]]\n"
     ]
    },
    {
     "data": {
      "image/png": "[encoded data removed]",
      "text/plain": [
       "<matplotlib.figure.Figure at 0x1152bfb00>"
      ]
     },
     "metadata": {},
     "output_type": "display_data"
    },
    {
     "data": {
      "image/png": "[encoded data removed]",
      "text/plain": [
       "<matplotlib.figure.Figure at 0x1152bf6d8>"
      ]
     },
     "metadata": {},
     "output_type": "display_data"
    }
   ],
   "source": [
    "# Compute confusion matrix\n",
    "cnf_matrix = confusion_matrix(y_test, logistic2.predict(X_test))\n",
    "np.set_printoptions(precision=2)\n",
    "\n",
    "# Plot non-normalized confusion matrix\n",
    "plt.figure(figsize=(6, 6))\n",
    "plot_confusion_matrix(cnf_matrix, classes=[i for i in range(2)],\n",
    "                      title='Confusion matrix, without normalization')\n",
    "\n",
    "# Plot normalized confusion matrix\n",
    "plt.figure(figsize=(6, 6))\n",
    "plot_confusion_matrix(cnf_matrix, classes=[i for i in range(2)], normalize=True,\n",
    "                      title='Normalized confusion matrix')\n",
    "\n",
    "plt.show()"
   ]
  },
  {
   "cell_type": "markdown",
   "metadata": {},
   "source": [
    "### Class 重み付きSVM, Class 重み付きRandom Forest"
   ]
  },
  {
   "cell_type": "code",
   "execution_count": 35,
   "metadata": {
    "collapsed": true
   },
   "outputs": [],
   "source": [
    "from sklearn import svm"
   ]
  },
  {
   "cell_type": "code",
   "execution_count": 36,
   "metadata": {},
   "outputs": [
    {
     "data": {
      "text/plain": [
       "array([227443,    379])"
      ]
     },
     "execution_count": 36,
     "metadata": {},
     "output_type": "execute_result"
    }
   ],
   "source": [
    "np.bincount(y_train)"
   ]
  },
  {
   "cell_type": "code",
   "execution_count": 37,
   "metadata": {},
   "outputs": [
    {
     "name": "stdout",
     "output_type": "stream",
     "text": [
      "[LibSVM]"
     ]
    },
    {
     "data": {
      "text/plain": [
       "SVC(C=1.0, cache_size=200, class_weight={1: 10}, coef0=0.0,\n",
       "  decision_function_shape=None, degree=3, gamma='auto', kernel='linear',\n",
       "  max_iter=-1, probability=False, random_state=None, shrinking=True,\n",
       "  tol=0.001, verbose=2)"
      ]
     },
     "execution_count": 37,
     "metadata": {},
     "output_type": "execute_result"
    }
   ],
   "source": [
    "wclf = svm.SVC(kernel='linear', class_weight={1: 10}, verbose=2)\n",
    "wclf.fit(X_train, y_train)"
   ]
  },
  {
   "cell_type": "code",
   "execution_count": 38,
   "metadata": {},
   "outputs": [
    {
     "name": "stdout",
     "output_type": "stream",
     "text": [
      "             precision    recall  f1-score   support\n",
      "\n",
      "          0       1.00      1.00      1.00     56849\n",
      "          1       0.81      0.77      0.79       107\n",
      "\n",
      "avg / total       1.00      1.00      1.00     56956\n",
      "\n"
     ]
    }
   ],
   "source": [
    "print(classification_report(y_test, wclf.predict(X_test)))"
   ]
  },
  {
   "cell_type": "code",
   "execution_count": 39,
   "metadata": {},
   "outputs": [
    {
     "name": "stdout",
     "output_type": "stream",
     "text": [
      "Confusion matrix, without normalization\n",
      "[[56830    19]\n",
      " [   25    82]]\n",
      "Normalized confusion matrix\n",
      "[[  1.00e+00   3.34e-04]\n",
      " [  2.34e-01   7.66e-01]]\n"
     ]
    },
    {
     "data": {
      "image/png": "[encoded data removed]",
      "text/plain": [
       "<matplotlib.figure.Figure at 0x117d01710>"
      ]
     },
     "metadata": {},
     "output_type": "display_data"
    },
    {
     "data": {
      "image/png": "[encoded data removed]",
      "text/plain": [
       "<matplotlib.figure.Figure at 0x11334a3c8>"
      ]
     },
     "metadata": {},
     "output_type": "display_data"
    }
   ],
   "source": [
    "# Compute confusion matrix\n",
    "cnf_matrix = confusion_matrix(y_test, wclf.predict(X_test))\n",
    "np.set_printoptions(precision=2)\n",
    "\n",
    "# Plot non-normalized confusion matrix\n",
    "plt.figure(figsize=(6, 6))\n",
    "plot_confusion_matrix(cnf_matrix, classes=[i for i in range(2)],\n",
    "                      title='Confusion matrix, without normalization')\n",
    "\n",
    "# Plot normalized confusion matrix\n",
    "plt.figure(figsize=(6, 6))\n",
    "plot_confusion_matrix(cnf_matrix, classes=[i for i in range(2)], normalize=True,\n",
    "                      title='Normalized confusion matrix')\n",
    "\n",
    "plt.show()"
   ]
  },
  {
   "cell_type": "code",
   "execution_count": 40,
   "metadata": {
    "collapsed": true
   },
   "outputs": [],
   "source": [
    "from sklearn.ensemble import RandomForestClassifier"
   ]
  },
  {
   "cell_type": "code",
   "execution_count": 41,
   "metadata": {},
   "outputs": [
    {
     "name": "stdout",
     "output_type": "stream",
     "text": [
      "building tree 1 of 100building tree 3 of 100building tree 2 of 100building tree 4 of 100\n",
      "\n",
      "\n",
      "\n",
      "building tree 5 of 100\n",
      "building tree 6 of 100\n",
      "building tree 7 of 100\n",
      "building tree 8 of 100\n",
      "building tree 9 of 100\n",
      "building tree 10 of 100\n",
      "building tree 11 of 100\n",
      "building tree 12 of 100\n",
      "building tree 13 of 100\n",
      "building tree 14 of 100\n",
      "building tree 15 of 100\n",
      "building tree 16 of 100\n",
      "building tree 17 of 100\n",
      "building tree 18 of 100\n",
      "building tree 19 of 100\n",
      "building tree 20 of 100\n",
      "building tree 22 of 100building tree 21 of 100\n",
      "\n",
      "building tree 23 of 100\n",
      "building tree 24 of 100\n",
      "building tree 25 of 100\n",
      "building tree 26 of 100\n",
      "building tree 27 of 100\n",
      "building tree 28 of 100\n",
      "building tree 29 of 100\n",
      "building tree 30 of 100\n",
      "building tree 31 of 100\n",
      "building tree 32 of 100\n",
      "building tree 33 of 100\n",
      "building tree 34 of 100\n",
      "building tree 35 of 100\n",
      "building tree 36 of 100\n",
      "building tree 37 of 100\n"
     ]
    },
    {
     "name": "stderr",
     "output_type": "stream",
     "text": [
      "[Parallel(n_jobs=-1)]: Done  33 tasks      | elapsed:   16.9s\n"
     ]
    },
    {
     "name": "stdout",
     "output_type": "stream",
     "text": [
      "building tree 38 of 100\n",
      "building tree 39 of 100\n",
      "building tree 40 of 100\n",
      "building tree 41 of 100\n",
      "building tree 42 of 100\n",
      "building tree 43 of 100\n",
      "building tree 44 of 100\n",
      "building tree 45 of 100\n",
      "building tree 46 of 100\n",
      "building tree 47 of 100\n",
      "building tree 48 of 100\n",
      "building tree 49 of 100\n",
      "building tree 50 of 100\n",
      "building tree 51 of 100\n",
      "building tree 52 of 100\n",
      "building tree 53 of 100\n",
      "building tree 54 of 100\n",
      "building tree 55 of 100\n",
      "building tree 56 of 100\n",
      "building tree 57 of 100\n",
      "building tree 58 of 100\n",
      "building tree 59 of 100\n",
      "building tree 60 of 100\n",
      "building tree 61 of 100\n",
      "building tree 62 of 100\n",
      "building tree 63 of 100\n",
      "building tree 64 of 100\n",
      "building tree 65 of 100\n",
      "building tree 66 of 100\n",
      "building tree 67 of 100\n",
      "building tree 68 of 100\n",
      "building tree 69 of 100\n",
      "building tree 70 of 100\n",
      "building tree 71 of 100\n",
      "building tree 72 of 100\n",
      "building tree 73 of 100\n",
      "building tree 74 of 100\n",
      "building tree 75 of 100\n",
      "building tree 76 of 100\n",
      "building tree 77 of 100\n",
      "building tree 78 of 100\n",
      "building tree 79 of 100\n",
      "building tree 80 of 100\n",
      "building tree 81 of 100\n",
      "building tree 82 of 100\n",
      "building tree 83 of 100\n",
      "building tree 84 of 100\n",
      "building tree 85 of 100\n",
      "building tree 86 of 100\n",
      "building tree 87 of 100\n",
      "building tree 88 of 100\n",
      "building tree 89 of 100\n",
      "building tree 90 of 100\n",
      "building tree 91 of 100\n",
      "building tree 92 of 100\n",
      "building tree 93 of 100\n",
      "building tree 94 of 100\n",
      "building tree 95 of 100\n",
      "building tree 96 of 100\n",
      "building tree 97 of 100\n",
      "building tree 98 of 100\n",
      "building tree 99 of 100\n",
      "building tree 100 of 100\n"
     ]
    },
    {
     "name": "stderr",
     "output_type": "stream",
     "text": [
      "[Parallel(n_jobs=-1)]: Done 100 out of 100 | elapsed:   56.0s finished\n"
     ]
    },
    {
     "data": {
      "text/plain": [
       "RandomForestClassifier(bootstrap=True, class_weight={1: 10}, criterion='gini',\n",
       "            max_depth=None, max_features='auto', max_leaf_nodes=None,\n",
       "            min_impurity_split=1e-07, min_samples_leaf=1,\n",
       "            min_samples_split=2, min_weight_fraction_leaf=0.0,\n",
       "            n_estimators=100, n_jobs=-1, oob_score=False,\n",
       "            random_state=None, verbose=2, warm_start=False)"
      ]
     },
     "execution_count": 41,
     "metadata": {},
     "output_type": "execute_result"
    }
   ],
   "source": [
    "rf = RandomForestClassifier(n_estimators=100, n_jobs=-1, class_weight={1: 10}, verbose=2)\n",
    "rf.fit(X_train, y_train)"
   ]
  },
  {
   "cell_type": "code",
   "execution_count": 42,
   "metadata": {},
   "outputs": [
    {
     "name": "stderr",
     "output_type": "stream",
     "text": [
      "[Parallel(n_jobs=4)]: Done  33 tasks      | elapsed:    0.1s\n"
     ]
    },
    {
     "name": "stdout",
     "output_type": "stream",
     "text": [
      "             precision    recall  f1-score   support\n",
      "\n",
      "          0       1.00      1.00      1.00     56849\n",
      "          1       0.99      0.72      0.83       107\n",
      "\n",
      "avg / total       1.00      1.00      1.00     56956\n",
      "\n"
     ]
    },
    {
     "name": "stderr",
     "output_type": "stream",
     "text": [
      "[Parallel(n_jobs=4)]: Done 100 out of 100 | elapsed:    0.5s finished\n"
     ]
    }
   ],
   "source": [
    "print(classification_report(y_test, rf.predict(X_test)))"
   ]
  },
  {
   "cell_type": "code",
   "execution_count": 43,
   "metadata": {},
   "outputs": [
    {
     "name": "stderr",
     "output_type": "stream",
     "text": [
      "[Parallel(n_jobs=4)]: Done  33 tasks      | elapsed:    0.2s\n",
      "[Parallel(n_jobs=4)]: Done 100 out of 100 | elapsed:    0.5s finished\n"
     ]
    },
    {
     "name": "stdout",
     "output_type": "stream",
     "text": [
      "Confusion matrix, without normalization\n",
      "[[56848     1]\n",
      " [   30    77]]\n",
      "Normalized confusion matrix\n",
      "[[  1.00e+00   1.76e-05]\n",
      " [  2.80e-01   7.20e-01]]\n"
     ]
    },
    {
     "data": {
      "image/png": "[encoded data removed]",
      "text/plain": [
       "<matplotlib.figure.Figure at 0x1152f69e8>"
      ]
     },
     "metadata": {},
     "output_type": "display_data"
    },
    {
     "data": {
      "image/png": "[encoded data removed]",
      "text/plain": [
       "<matplotlib.figure.Figure at 0x1156f0da0>"
      ]
     },
     "metadata": {},
     "output_type": "display_data"
    }
   ],
   "source": [
    "# Compute confusion matrix\n",
    "cnf_matrix = confusion_matrix(y_test, rf.predict(X_test))\n",
    "np.set_printoptions(precision=2)\n",
    "\n",
    "# Plot non-normalized confusion matrix\n",
    "plt.figure(figsize=(6, 6))\n",
    "plot_confusion_matrix(cnf_matrix, classes=[i for i in range(2)],\n",
    "                      title='Confusion matrix, without normalization')\n",
    "\n",
    "# Plot normalized confusion matrix\n",
    "plt.figure(figsize=(6, 6))\n",
    "plot_confusion_matrix(cnf_matrix, classes=[i for i in range(2)], normalize=True,\n",
    "                      title='Normalized confusion matrix')\n",
    "\n",
    "plt.show()"
   ]
  },
  {
   "cell_type": "markdown",
   "metadata": {},
   "source": [
    "### クロスバリデーション"
   ]
  },
  {
   "cell_type": "code",
   "execution_count": 44,
   "metadata": {
    "collapsed": true
   },
   "outputs": [],
   "source": [
    "from sklearn.model_selection import GridSearchCV"
   ]
  },
  {
   "cell_type": "code",
   "execution_count": 45,
   "metadata": {
    "collapsed": true
   },
   "outputs": [],
   "source": [
    "parameters = [\n",
    "    {'C': [1, 10], 'kernel': ['linear'], 'class_weight': [{1: 10}, {1:20}, {1: 50}]},\n",
    "    {'C': [1, 10], 'kernel': ['rbf'], 'class_weight': [{1: 10}, {1:20}, {1: 50}]},\n",
    "    {'C': [1, 10], 'kernel': ['poly'], 'degree': [2, 3], 'class_weight': [{1: 10}, {1:20}, {1: 50}]}\n",
    "    ]"
   ]
  },
  {
   "cell_type": "code",
   "execution_count": 46,
   "metadata": {
    "collapsed": true
   },
   "outputs": [],
   "source": [
    "clf = GridSearchCV(\n",
    "    svm.SVC(),\n",
    "    parameters,\n",
    "    cv=5,\n",
    "    scoring='f1_weighted',\n",
    "    n_jobs=-1,\n",
    "    verbose=2)"
   ]
  },
  {
   "cell_type": "code",
   "execution_count": 47,
   "metadata": {},
   "outputs": [
    {
     "name": "stdout",
     "output_type": "stream",
     "text": [
      "Fitting 5 folds for each of 24 candidates, totalling 120 fits\n",
      "[CV] C=1, class_weight={1: 10}, kernel=linear ........................\n",
      "[CV] C=1, class_weight={1: 10}, kernel=linear ........................\n",
      "[CV] C=1, class_weight={1: 10}, kernel=linear ........................\n",
      "[CV] C=1, class_weight={1: 10}, kernel=linear ........................\n",
      "[CV] ......... C=1, class_weight={1: 10}, kernel=linear, total= 4.4min\n",
      "[CV] C=1, class_weight={1: 10}, kernel=linear ........................\n",
      "[CV] ......... C=1, class_weight={1: 10}, kernel=linear, total= 4.4min\n",
      "[CV] C=1, class_weight={1: 20}, kernel=linear ........................\n",
      "[CV] ......... C=1, class_weight={1: 10}, kernel=linear, total= 4.5min\n",
      "[CV] C=1, class_weight={1: 20}, kernel=linear ........................\n",
      "[CV] ......... C=1, class_weight={1: 10}, kernel=linear, total= 4.5min\n",
      "[CV] C=1, class_weight={1: 20}, kernel=linear ........................\n",
      "[CV] ......... C=1, class_weight={1: 10}, kernel=linear, total= 2.9min\n",
      "[CV] C=1, class_weight={1: 20}, kernel=linear ........................\n",
      "[CV] ......... C=1, class_weight={1: 20}, kernel=linear, total= 5.6min\n",
      "[CV] C=1, class_weight={1: 20}, kernel=linear ........................\n",
      "[CV] ......... C=1, class_weight={1: 20}, kernel=linear, total= 6.0min\n",
      "[CV] C=1, class_weight={1: 50}, kernel=linear ........................\n",
      "[CV] ......... C=1, class_weight={1: 20}, kernel=linear, total= 6.2min\n",
      "[CV] C=1, class_weight={1: 50}, kernel=linear ........................\n",
      "[CV] ......... C=1, class_weight={1: 20}, kernel=linear, total= 6.1min\n",
      "[CV] C=1, class_weight={1: 50}, kernel=linear ........................\n",
      "[CV] ......... C=1, class_weight={1: 20}, kernel=linear, total= 5.9min\n",
      "[CV] C=1, class_weight={1: 50}, kernel=linear ........................\n",
      "[CV] ......... C=1, class_weight={1: 50}, kernel=linear, total=12.0min\n",
      "[CV] C=1, class_weight={1: 50}, kernel=linear ........................\n",
      "[CV] ......... C=1, class_weight={1: 50}, kernel=linear, total=12.7min\n",
      "[CV] C=10, class_weight={1: 10}, kernel=linear .......................\n",
      "[CV] ......... C=1, class_weight={1: 50}, kernel=linear, total=13.6min\n",
      "[CV] C=10, class_weight={1: 10}, kernel=linear .......................\n",
      "[CV] ......... C=1, class_weight={1: 50}, kernel=linear, total=12.0min\n",
      "[CV] C=10, class_weight={1: 10}, kernel=linear .......................\n",
      "[CV] ......... C=1, class_weight={1: 50}, kernel=linear, total=11.4min\n",
      "[CV] C=10, class_weight={1: 10}, kernel=linear .......................\n",
      "[CV] ........ C=10, class_weight={1: 10}, kernel=linear, total=25.4min\n",
      "[CV] C=10, class_weight={1: 10}, kernel=linear .......................\n",
      "[CV] ........ C=10, class_weight={1: 10}, kernel=linear, total=27.0min\n",
      "[CV] C=10, class_weight={1: 20}, kernel=linear .......................\n",
      "[CV] ........ C=10, class_weight={1: 10}, kernel=linear, total=27.5min\n",
      "[CV] C=10, class_weight={1: 20}, kernel=linear .......................\n",
      "[CV] ........ C=10, class_weight={1: 10}, kernel=linear, total=32.9min\n",
      "[CV] C=10, class_weight={1: 20}, kernel=linear .......................\n",
      "[CV] ........ C=10, class_weight={1: 10}, kernel=linear, total=26.3min\n",
      "[CV] C=10, class_weight={1: 20}, kernel=linear .......................\n",
      "[CV] ........ C=10, class_weight={1: 20}, kernel=linear, total=42.0min\n",
      "[CV] C=10, class_weight={1: 20}, kernel=linear .......................\n",
      "[CV] ........ C=10, class_weight={1: 20}, kernel=linear, total=44.2min\n",
      "[CV] C=10, class_weight={1: 50}, kernel=linear .......................\n",
      "[CV] ........ C=10, class_weight={1: 20}, kernel=linear, total=43.8min\n",
      "[CV] C=10, class_weight={1: 50}, kernel=linear .......................\n",
      "[CV] ........ C=10, class_weight={1: 20}, kernel=linear, total=43.2min\n",
      "[CV] C=10, class_weight={1: 50}, kernel=linear .......................\n",
      "[CV] ........ C=10, class_weight={1: 20}, kernel=linear, total=41.0min\n",
      "[CV] C=10, class_weight={1: 50}, kernel=linear .......................\n",
      "[CV] ........ C=10, class_weight={1: 50}, kernel=linear, total=88.3min\n",
      "[CV] C=10, class_weight={1: 50}, kernel=linear .......................\n",
      "[CV] ........ C=10, class_weight={1: 50}, kernel=linear, total=85.0min\n",
      "[CV] C=1, class_weight={1: 10}, kernel=rbf ...........................\n",
      "[CV] ............ C=1, class_weight={1: 10}, kernel=rbf, total= 2.0min\n",
      "[CV] C=1, class_weight={1: 10}, kernel=rbf ...........................\n",
      "[CV] ............ C=1, class_weight={1: 10}, kernel=rbf, total= 2.0min\n",
      "[CV] C=1, class_weight={1: 10}, kernel=rbf ...........................\n",
      "[CV] ............ C=1, class_weight={1: 10}, kernel=rbf, total= 1.9min\n",
      "[CV] C=1, class_weight={1: 10}, kernel=rbf ...........................\n",
      "[CV] ............ C=1, class_weight={1: 10}, kernel=rbf, total= 1.8min\n",
      "[CV] C=1, class_weight={1: 10}, kernel=rbf ...........................\n",
      "[CV] ............ C=1, class_weight={1: 10}, kernel=rbf, total= 1.8min\n",
      "[CV] C=1, class_weight={1: 20}, kernel=rbf ...........................\n",
      "[CV] ........ C=10, class_weight={1: 50}, kernel=linear, total=91.3min\n",
      "[CV] C=1, class_weight={1: 20}, kernel=rbf ...........................\n"
     ]
    },
    {
     "name": "stderr",
     "output_type": "stream",
     "text": [
      "[Parallel(n_jobs=-1)]: Done  33 tasks      | elapsed: 211.4min\n"
     ]
    },
    {
     "name": "stdout",
     "output_type": "stream",
     "text": [
      "[CV] ............ C=1, class_weight={1: 20}, kernel=rbf, total= 1.8min\n",
      "[CV] C=1, class_weight={1: 20}, kernel=rbf ...........................\n",
      "[CV] ............ C=1, class_weight={1: 20}, kernel=rbf, total= 1.8min\n",
      "[CV] C=1, class_weight={1: 20}, kernel=rbf ...........................\n",
      "[CV] ............ C=1, class_weight={1: 20}, kernel=rbf, total= 1.8min\n",
      "[CV] C=1, class_weight={1: 20}, kernel=rbf ...........................\n",
      "[CV] ............ C=1, class_weight={1: 20}, kernel=rbf, total= 1.9min\n",
      "[CV] C=1, class_weight={1: 50}, kernel=rbf ...........................\n",
      "[CV] ............ C=1, class_weight={1: 20}, kernel=rbf, total= 1.8min\n",
      "[CV] C=1, class_weight={1: 50}, kernel=rbf ...........................\n",
      "[CV] ............ C=1, class_weight={1: 50}, kernel=rbf, total= 1.9min\n",
      "[CV] C=1, class_weight={1: 50}, kernel=rbf ...........................\n",
      "[CV] ............ C=1, class_weight={1: 50}, kernel=rbf, total= 1.9min\n",
      "[CV] C=1, class_weight={1: 50}, kernel=rbf ...........................\n",
      "[CV] ............ C=1, class_weight={1: 50}, kernel=rbf, total= 1.8min\n",
      "[CV] C=1, class_weight={1: 50}, kernel=rbf ...........................\n",
      "[CV] ............ C=1, class_weight={1: 50}, kernel=rbf, total= 1.8min\n",
      "[CV] C=10, class_weight={1: 10}, kernel=rbf ..........................\n",
      "[CV] ........ C=10, class_weight={1: 50}, kernel=linear, total=81.5min\n",
      "[CV] C=10, class_weight={1: 10}, kernel=rbf ..........................\n",
      "[CV] ........... C=10, class_weight={1: 10}, kernel=rbf, total= 1.3min\n",
      "[CV] C=10, class_weight={1: 10}, kernel=rbf ..........................\n",
      "[CV] ............ C=1, class_weight={1: 50}, kernel=rbf, total= 1.8min\n",
      "[CV] C=10, class_weight={1: 10}, kernel=rbf ..........................\n",
      "[CV] ........... C=10, class_weight={1: 10}, kernel=rbf, total= 1.3min\n",
      "[CV] C=10, class_weight={1: 10}, kernel=rbf ..........................\n",
      "[CV] ........... C=10, class_weight={1: 10}, kernel=rbf, total= 1.3min\n",
      "[CV] C=10, class_weight={1: 20}, kernel=rbf ..........................\n",
      "[CV] ........... C=10, class_weight={1: 10}, kernel=rbf, total= 1.3min\n",
      "[CV] C=10, class_weight={1: 20}, kernel=rbf ..........................\n",
      "[CV] ........... C=10, class_weight={1: 10}, kernel=rbf, total= 1.2min\n",
      "[CV] C=10, class_weight={1: 20}, kernel=rbf ..........................\n",
      "[CV] ........... C=10, class_weight={1: 20}, kernel=rbf, total= 1.1min\n",
      "[CV] C=10, class_weight={1: 20}, kernel=rbf ..........................\n",
      "[CV] ........... C=10, class_weight={1: 20}, kernel=rbf, total= 1.2min\n",
      "[CV] C=10, class_weight={1: 20}, kernel=rbf ..........................\n",
      "[CV] ........... C=10, class_weight={1: 20}, kernel=rbf, total= 1.2min\n",
      "[CV] C=10, class_weight={1: 50}, kernel=rbf ..........................\n",
      "[CV] ........... C=10, class_weight={1: 20}, kernel=rbf, total= 1.1min\n",
      "[CV] C=10, class_weight={1: 50}, kernel=rbf ..........................\n",
      "[CV] ........... C=10, class_weight={1: 20}, kernel=rbf, total= 1.2min\n",
      "[CV] C=10, class_weight={1: 50}, kernel=rbf ..........................\n",
      "[CV] ........... C=10, class_weight={1: 50}, kernel=rbf, total=  52.6s\n",
      "[CV] C=10, class_weight={1: 50}, kernel=rbf ..........................\n",
      "[CV] ........... C=10, class_weight={1: 50}, kernel=rbf, total=  55.3s\n",
      "[CV] C=10, class_weight={1: 50}, kernel=rbf ..........................\n",
      "[CV] ........... C=10, class_weight={1: 50}, kernel=rbf, total=  54.6s\n",
      "[CV] C=1, class_weight={1: 10}, degree=2, kernel=poly ................\n",
      "[CV] ........... C=10, class_weight={1: 50}, kernel=rbf, total=  53.2s\n",
      "[CV] C=1, class_weight={1: 10}, degree=2, kernel=poly ................\n",
      "[CV] ........... C=10, class_weight={1: 50}, kernel=rbf, total=  53.9s\n",
      "[CV] C=1, class_weight={1: 10}, degree=2, kernel=poly ................\n",
      "[CV] . C=1, class_weight={1: 10}, degree=2, kernel=poly, total= 1.8min\n",
      "[CV] C=1, class_weight={1: 10}, degree=2, kernel=poly ................\n",
      "[CV] . C=1, class_weight={1: 10}, degree=2, kernel=poly, total= 1.8min\n",
      "[CV] C=1, class_weight={1: 10}, degree=2, kernel=poly ................\n",
      "[CV] . C=1, class_weight={1: 10}, degree=2, kernel=poly, total= 1.8min\n",
      "[CV] C=1, class_weight={1: 10}, degree=3, kernel=poly ................\n",
      "[CV] . C=1, class_weight={1: 10}, degree=2, kernel=poly, total= 1.3min\n",
      "[CV] C=1, class_weight={1: 10}, degree=3, kernel=poly ................\n",
      "[CV] . C=1, class_weight={1: 10}, degree=2, kernel=poly, total= 1.6min\n",
      "[CV] C=1, class_weight={1: 10}, degree=3, kernel=poly ................\n",
      "[CV] . C=1, class_weight={1: 10}, degree=3, kernel=poly, total= 3.3min\n",
      "[CV] C=1, class_weight={1: 10}, degree=3, kernel=poly ................\n",
      "[CV] . C=1, class_weight={1: 10}, degree=3, kernel=poly, total= 3.1min\n",
      "[CV] C=1, class_weight={1: 10}, degree=3, kernel=poly ................\n",
      "[CV] . C=1, class_weight={1: 10}, degree=3, kernel=poly, total= 3.7min\n",
      "[CV] C=1, class_weight={1: 20}, degree=2, kernel=poly ................\n",
      "[CV] . C=1, class_weight={1: 10}, degree=3, kernel=poly, total= 2.5min\n",
      "[CV] C=1, class_weight={1: 20}, degree=2, kernel=poly ................\n",
      "[CV] . C=1, class_weight={1: 20}, degree=2, kernel=poly, total= 2.1min\n",
      "[CV] C=1, class_weight={1: 20}, degree=2, kernel=poly ................\n",
      "[CV] . C=1, class_weight={1: 10}, degree=3, kernel=poly, total= 4.2min\n",
      "[CV] C=1, class_weight={1: 20}, degree=2, kernel=poly ................\n",
      "[CV] . C=1, class_weight={1: 20}, degree=2, kernel=poly, total= 2.2min\n",
      "[CV] C=1, class_weight={1: 20}, degree=2, kernel=poly ................\n",
      "[CV] . C=1, class_weight={1: 20}, degree=2, kernel=poly, total= 2.1min\n",
      "[CV] C=1, class_weight={1: 20}, degree=3, kernel=poly ................\n",
      "[CV] . C=1, class_weight={1: 20}, degree=2, kernel=poly, total= 2.0min\n",
      "[CV] C=1, class_weight={1: 20}, degree=3, kernel=poly ................\n",
      "[CV] . C=1, class_weight={1: 20}, degree=2, kernel=poly, total= 1.7min\n",
      "[CV] C=1, class_weight={1: 20}, degree=3, kernel=poly ................\n",
      "[CV] . C=1, class_weight={1: 20}, degree=3, kernel=poly, total= 3.4min\n",
      "[CV] C=1, class_weight={1: 20}, degree=3, kernel=poly ................\n",
      "[CV] . C=1, class_weight={1: 20}, degree=3, kernel=poly, total= 3.8min\n",
      "[CV] C=1, class_weight={1: 20}, degree=3, kernel=poly ................\n",
      "[CV] . C=1, class_weight={1: 20}, degree=3, kernel=poly, total= 3.7min\n",
      "[CV] C=1, class_weight={1: 50}, degree=2, kernel=poly ................\n",
      "[CV] . C=1, class_weight={1: 20}, degree=3, kernel=poly, total= 4.0min\n",
      "[CV] C=1, class_weight={1: 50}, degree=2, kernel=poly ................\n",
      "[CV] . C=1, class_weight={1: 20}, degree=3, kernel=poly, total= 3.3min\n",
      "[CV] C=1, class_weight={1: 50}, degree=2, kernel=poly ................\n",
      "[CV] . C=1, class_weight={1: 50}, degree=2, kernel=poly, total= 3.4min\n",
      "[CV] C=1, class_weight={1: 50}, degree=2, kernel=poly ................\n",
      "[CV] . C=1, class_weight={1: 50}, degree=2, kernel=poly, total= 3.6min\n",
      "[CV] C=1, class_weight={1: 50}, degree=2, kernel=poly ................\n",
      "[CV] . C=1, class_weight={1: 50}, degree=2, kernel=poly, total= 3.1min\n",
      "[CV] C=1, class_weight={1: 50}, degree=3, kernel=poly ................\n",
      "[CV] . C=1, class_weight={1: 50}, degree=2, kernel=poly, total= 2.8min\n",
      "[CV] C=1, class_weight={1: 50}, degree=3, kernel=poly ................\n",
      "[CV] . C=1, class_weight={1: 50}, degree=2, kernel=poly, total= 2.8min\n",
      "[CV] C=1, class_weight={1: 50}, degree=3, kernel=poly ................\n",
      "[CV] . C=1, class_weight={1: 50}, degree=3, kernel=poly, total= 3.8min\n",
      "[CV] C=1, class_weight={1: 50}, degree=3, kernel=poly ................\n",
      "[CV] . C=1, class_weight={1: 50}, degree=3, kernel=poly, total= 4.0min\n",
      "[CV] C=1, class_weight={1: 50}, degree=3, kernel=poly ................\n",
      "[CV] . C=1, class_weight={1: 50}, degree=3, kernel=poly, total= 4.2min\n",
      "[CV] C=10, class_weight={1: 10}, degree=2, kernel=poly ...............\n",
      "[CV] . C=1, class_weight={1: 50}, degree=3, kernel=poly, total= 4.6min\n",
      "[CV] C=10, class_weight={1: 10}, degree=2, kernel=poly ...............\n",
      "[CV] . C=1, class_weight={1: 50}, degree=3, kernel=poly, total= 4.0min\n",
      "[CV] C=10, class_weight={1: 10}, degree=2, kernel=poly ...............\n",
      "[CV]  C=10, class_weight={1: 10}, degree=2, kernel=poly, total= 8.6min\n",
      "[CV] C=10, class_weight={1: 10}, degree=2, kernel=poly ...............\n",
      "[CV] ........ C=10, class_weight={1: 50}, kernel=linear, total=80.9min\n",
      "[CV] C=10, class_weight={1: 10}, degree=2, kernel=poly ...............\n"
     ]
    },
    {
     "name": "stdout",
     "output_type": "stream",
     "text": [
      "[CV]  C=10, class_weight={1: 10}, degree=2, kernel=poly, total= 7.7min\n",
      "[CV] C=10, class_weight={1: 10}, degree=3, kernel=poly ...............\n",
      "[CV]  C=10, class_weight={1: 10}, degree=2, kernel=poly, total= 9.2min\n",
      "[CV] C=10, class_weight={1: 10}, degree=3, kernel=poly ...............\n",
      "[CV]  C=10, class_weight={1: 10}, degree=2, kernel=poly, total= 5.6min\n",
      "[CV] C=10, class_weight={1: 10}, degree=3, kernel=poly ...............\n",
      "[CV]  C=10, class_weight={1: 10}, degree=3, kernel=poly, total= 7.5min\n",
      "[CV] C=10, class_weight={1: 10}, degree=3, kernel=poly ...............\n",
      "[CV]  C=10, class_weight={1: 10}, degree=2, kernel=poly, total= 8.3min\n",
      "[CV] C=10, class_weight={1: 10}, degree=3, kernel=poly ...............\n",
      "[CV]  C=10, class_weight={1: 10}, degree=3, kernel=poly, total= 9.6min\n",
      "[CV] C=10, class_weight={1: 20}, degree=2, kernel=poly ...............\n",
      "[CV]  C=10, class_weight={1: 10}, degree=3, kernel=poly, total= 8.1min\n",
      "[CV] C=10, class_weight={1: 20}, degree=2, kernel=poly ...............\n",
      "[CV]  C=10, class_weight={1: 10}, degree=3, kernel=poly, total= 7.6min\n",
      "[CV] C=10, class_weight={1: 20}, degree=2, kernel=poly ...............\n",
      "[CV]  C=10, class_weight={1: 10}, degree=3, kernel=poly, total= 7.8min\n",
      "[CV] C=10, class_weight={1: 20}, degree=2, kernel=poly ...............\n",
      "[CV]  C=10, class_weight={1: 20}, degree=2, kernel=poly, total=11.4min\n",
      "[CV] C=10, class_weight={1: 20}, degree=2, kernel=poly ...............\n",
      "[CV]  C=10, class_weight={1: 20}, degree=2, kernel=poly, total= 9.9min\n",
      "[CV] C=10, class_weight={1: 20}, degree=3, kernel=poly ...............\n",
      "[CV]  C=10, class_weight={1: 20}, degree=2, kernel=poly, total= 9.2min\n",
      "[CV] C=10, class_weight={1: 20}, degree=3, kernel=poly ...............\n",
      "[CV]  C=10, class_weight={1: 20}, degree=2, kernel=poly, total=10.9min\n",
      "[CV] C=10, class_weight={1: 20}, degree=3, kernel=poly ...............\n",
      "[CV]  C=10, class_weight={1: 20}, degree=2, kernel=poly, total= 7.7min\n",
      "[CV] C=10, class_weight={1: 20}, degree=3, kernel=poly ...............\n",
      "[CV]  C=10, class_weight={1: 20}, degree=3, kernel=poly, total= 9.5min\n",
      "[CV] C=10, class_weight={1: 20}, degree=3, kernel=poly ...............\n",
      "[CV]  C=10, class_weight={1: 20}, degree=3, kernel=poly, total= 8.2min\n",
      "[CV] C=10, class_weight={1: 50}, degree=2, kernel=poly ...............\n",
      "[CV]  C=10, class_weight={1: 20}, degree=3, kernel=poly, total= 9.7min\n",
      "[CV] C=10, class_weight={1: 50}, degree=2, kernel=poly ...............\n",
      "[CV]  C=10, class_weight={1: 20}, degree=3, kernel=poly, total= 8.6min\n",
      "[CV] C=10, class_weight={1: 50}, degree=2, kernel=poly ...............\n",
      "[CV]  C=10, class_weight={1: 20}, degree=3, kernel=poly, total= 8.2min\n",
      "[CV] C=10, class_weight={1: 50}, degree=2, kernel=poly ...............\n",
      "[CV]  C=10, class_weight={1: 50}, degree=2, kernel=poly, total=13.3min\n",
      "[CV] C=10, class_weight={1: 50}, degree=2, kernel=poly ...............\n",
      "[CV]  C=10, class_weight={1: 50}, degree=2, kernel=poly, total=13.8min\n",
      "[CV] C=10, class_weight={1: 50}, degree=3, kernel=poly ...............\n",
      "[CV]  C=10, class_weight={1: 50}, degree=2, kernel=poly, total=13.0min\n",
      "[CV] C=10, class_weight={1: 50}, degree=3, kernel=poly ...............\n",
      "[CV]  C=10, class_weight={1: 50}, degree=2, kernel=poly, total=12.0min\n",
      "[CV] C=10, class_weight={1: 50}, degree=3, kernel=poly ...............\n",
      "[CV]  C=10, class_weight={1: 50}, degree=3, kernel=poly, total=10.5min\n",
      "[CV] C=10, class_weight={1: 50}, degree=3, kernel=poly ...............\n",
      "[CV]  C=10, class_weight={1: 50}, degree=2, kernel=poly, total=11.4min\n",
      "[CV] C=10, class_weight={1: 50}, degree=3, kernel=poly ...............\n",
      "[CV]  C=10, class_weight={1: 50}, degree=3, kernel=poly, total= 9.4min\n",
      "[CV]  C=10, class_weight={1: 50}, degree=3, kernel=poly, total= 9.3min\n",
      "[CV]  C=10, class_weight={1: 50}, degree=3, kernel=poly, total= 6.5min\n",
      "[CV]  C=10, class_weight={1: 50}, degree=3, kernel=poly, total= 6.0min\n"
     ]
    },
    {
     "name": "stderr",
     "output_type": "stream",
     "text": [
      "[Parallel(n_jobs=-1)]: Done 120 out of 120 | elapsed: 336.5min finished\n"
     ]
    },
    {
     "data": {
      "text/plain": [
       "GridSearchCV(cv=5, error_score='raise',\n",
       "       estimator=SVC(C=1.0, cache_size=200, class_weight=None, coef0=0.0,\n",
       "  decision_function_shape=None, degree=3, gamma='auto', kernel='rbf',\n",
       "  max_iter=-1, probability=False, random_state=None, shrinking=True,\n",
       "  tol=0.001, verbose=False),\n",
       "       fit_params={}, iid=True, n_jobs=-1,\n",
       "       param_grid=[{'C': [1, 10], 'kernel': ['linear'], 'class_weight': [{1: 10}, {1: 20}, {1: 50}]}, {'C': [1, 10], 'kernel': ['rbf'], 'class_weight': [{1: 10}, {1: 20}, {1: 50}]}, {'C': [1, 10], 'kernel': ['poly'], 'degree': [2, 3], 'class_weight': [{1: 10}, {1: 20}, {1: 50}]}],\n",
       "       pre_dispatch='2*n_jobs', refit=True, return_train_score=True,\n",
       "       scoring='f1_weighted', verbose=2)"
      ]
     },
     "execution_count": 47,
     "metadata": {},
     "output_type": "execute_result"
    }
   ],
   "source": [
    "clf.fit(X_train, y_train)"
   ]
  },
  {
   "cell_type": "code",
   "execution_count": 48,
   "metadata": {},
   "outputs": [
    {
     "name": "stdout",
     "output_type": "stream",
     "text": [
      "# Tuning hyper-parameters for f1_weighted\n",
      "\n",
      "Best parameters set found on development set: {'C': 1, 'class_weight': {1: 10}, 'kernel': 'rbf'}\n",
      "\n",
      "Grid scores on development set:\n",
      "\n",
      "0.999 (+/-0.000) for {'C': 1, 'class_weight': {1: 10}, 'kernel': 'linear'}\n",
      "0.999 (+/-0.000) for {'C': 1, 'class_weight': {1: 20}, 'kernel': 'linear'}\n",
      "0.999 (+/-0.000) for {'C': 1, 'class_weight': {1: 50}, 'kernel': 'linear'}\n",
      "0.999 (+/-0.000) for {'C': 10, 'class_weight': {1: 10}, 'kernel': 'linear'}\n",
      "0.999 (+/-0.000) for {'C': 10, 'class_weight': {1: 20}, 'kernel': 'linear'}\n",
      "0.999 (+/-0.000) for {'C': 10, 'class_weight': {1: 50}, 'kernel': 'linear'}\n",
      "0.999 (+/-0.000) for {'C': 1, 'class_weight': {1: 10}, 'kernel': 'rbf'}\n",
      "0.999 (+/-0.000) for {'C': 1, 'class_weight': {1: 20}, 'kernel': 'rbf'}\n",
      "0.999 (+/-0.000) for {'C': 1, 'class_weight': {1: 50}, 'kernel': 'rbf'}\n",
      "0.999 (+/-0.000) for {'C': 10, 'class_weight': {1: 10}, 'kernel': 'rbf'}\n",
      "0.999 (+/-0.000) for {'C': 10, 'class_weight': {1: 20}, 'kernel': 'rbf'}\n",
      "0.999 (+/-0.000) for {'C': 10, 'class_weight': {1: 50}, 'kernel': 'rbf'}\n",
      "0.999 (+/-0.000) for {'C': 1, 'class_weight': {1: 10}, 'degree': 2, 'kernel': 'poly'}\n",
      "0.999 (+/-0.000) for {'C': 1, 'class_weight': {1: 10}, 'degree': 3, 'kernel': 'poly'}\n",
      "0.999 (+/-0.000) for {'C': 1, 'class_weight': {1: 20}, 'degree': 2, 'kernel': 'poly'}\n",
      "0.999 (+/-0.000) for {'C': 1, 'class_weight': {1: 20}, 'degree': 3, 'kernel': 'poly'}\n",
      "0.999 (+/-0.000) for {'C': 1, 'class_weight': {1: 50}, 'degree': 2, 'kernel': 'poly'}\n",
      "0.999 (+/-0.000) for {'C': 1, 'class_weight': {1: 50}, 'degree': 3, 'kernel': 'poly'}\n",
      "0.999 (+/-0.000) for {'C': 10, 'class_weight': {1: 10}, 'degree': 2, 'kernel': 'poly'}\n",
      "0.999 (+/-0.000) for {'C': 10, 'class_weight': {1: 10}, 'degree': 3, 'kernel': 'poly'}\n",
      "0.999 (+/-0.000) for {'C': 10, 'class_weight': {1: 20}, 'degree': 2, 'kernel': 'poly'}\n",
      "0.999 (+/-0.000) for {'C': 10, 'class_weight': {1: 20}, 'degree': 3, 'kernel': 'poly'}\n",
      "0.999 (+/-0.000) for {'C': 10, 'class_weight': {1: 50}, 'degree': 2, 'kernel': 'poly'}\n",
      "0.998 (+/-0.000) for {'C': 10, 'class_weight': {1: 50}, 'degree': 3, 'kernel': 'poly'}\n",
      "\n",
      "The scores are computed on the full evaluation set.\n",
      "\n"
     ]
    },
    {
     "name": "stderr",
     "output_type": "stream",
     "text": [
      "/usr/local/lib/python3.6/site-packages/sklearn/model_selection/_search.py:667: DeprecationWarning: The grid_scores_ attribute was deprecated in version 0.18 in favor of the more elaborate cv_results_ attribute. The grid_scores_ attribute will not be available from 0.20\n",
      "  DeprecationWarning)\n"
     ]
    },
    {
     "name": "stdout",
     "output_type": "stream",
     "text": [
      "             precision    recall  f1-score   support\n",
      "\n",
      "          0       1.00      1.00      1.00     56849\n",
      "          1       0.93      0.74      0.82       107\n",
      "\n",
      "avg / total       1.00      1.00      1.00     56956\n",
      "\n"
     ]
    }
   ],
   "source": [
    "print(\"# Tuning hyper-parameters for f1_weighted\")\n",
    "print()\n",
    "print(\"Best parameters set found on development set: %s\" % clf.best_params_)\n",
    "print()\n",
    "\n",
    "# それぞれのパラメータでの試行結果の表示\n",
    "print(\"Grid scores on development set:\")\n",
    "print()\n",
    "for params, mean_score, scores in clf.grid_scores_:\n",
    "    print(\"%0.3f (+/-%0.03f) for %r\"\n",
    "          % (mean_score, scores.std() * 2, params))\n",
    "print()\n",
    "\n",
    "# テストデータセットでの分類精度を表示\n",
    "print(\"The scores are computed on the full evaluation set.\")\n",
    "print()\n",
    "y_true, y_pred = y_test, clf.predict(X_test)\n",
    "print(classification_report(y_true, y_pred))"
   ]
  },
  {
   "cell_type": "code",
   "execution_count": 49,
   "metadata": {},
   "outputs": [
    {
     "name": "stdout",
     "output_type": "stream",
     "text": [
      "Confusion matrix, without normalization\n",
      "[[56843     6]\n",
      " [   28    79]]\n",
      "Normalized confusion matrix\n",
      "[[  1.00e+00   1.06e-04]\n",
      " [  2.62e-01   7.38e-01]]\n"
     ]
    },
    {
     "data": {
      "image/png": "[encoded data removed]",
      "text/plain": [
       "<matplotlib.figure.Figure at 0x11938e780>"
      ]
     },
     "metadata": {},
     "output_type": "display_data"
    },
    {
     "data": {
      "image/png": "[encoded data removed]",
      "text/plain": [
       "<matplotlib.figure.Figure at 0x1130afdd8>"
      ]
     },
     "metadata": {},
     "output_type": "display_data"
    }
   ],
   "source": [
    "# Compute confusion matrix\n",
    "cnf_matrix = confusion_matrix(y_test, y_pred)\n",
    "np.set_printoptions(precision=2)\n",
    "\n",
    "# Plot non-normalized confusion matrix\n",
    "plt.figure(figsize=(6, 6))\n",
    "plot_confusion_matrix(cnf_matrix, classes=[i for i in range(2)],\n",
    "                      title='Confusion matrix, without normalization')\n",
    "\n",
    "# Plot normalized confusion matrix\n",
    "plt.figure(figsize=(6, 6))\n",
    "plot_confusion_matrix(cnf_matrix, classes=[i for i in range(2)], normalize=True,\n",
    "                      title='Normalized confusion matrix')\n",
    "\n",
    "plt.show()"
   ]
  },
  {
   "cell_type": "markdown",
   "metadata": {},
   "source": [
    "## 6. 作成したモデルによる新データの分類\n"
   ]
  },
  {
   "cell_type": "markdown",
   "metadata": {},
   "source": [
    "ノートブック上でモデルを生成するだけでは, 実際のサービスに応用することはできません.<br>\n",
    "生成したモデルを用いて, 日々新しく生成されるデータを如何にして`早く・正確`に分類・予測するかも非常に重要です.<br>\n",
    "最後に上記で作成したモデルを用いて, 新データの不正検出を行ってみましょう."
   ]
  },
  {
   "cell_type": "markdown",
   "metadata": {},
   "source": [
    "#### データ整形・学習済モデルのシリアライズ\n",
    "新データに対して適用するために, 作成したモデル及び正規化するためのオブジェクトをシリアライズします."
   ]
  },
  {
   "cell_type": "code",
   "execution_count": 50,
   "metadata": {
    "collapsed": true
   },
   "outputs": [],
   "source": [
    "import pickle\n",
    "\n",
    "MODEL_PATH = 'classifier_model.bin'\n",
    "SCALER_PATH = 'scaler.bin'\n",
    "\n",
    "# データ整形時カラムごとに正規化を行う必要があるため, カラムごとに分散・平均値等をシリアライズし, 再利用できるようにします\n",
    "scalers = {}\n",
    "for column_name in df_droped.columns:    \n",
    "    # Classカラムは正規化しない\n",
    "    if column_name == 'Class':\n",
    "        continue\n",
    "    # 指定されたカラムを抽出\n",
    "    train_column = df_droped[column_name]\n",
    "    # trainを用いて平均と分散を計算する\n",
    "    # 計算結果をカラムごとにdictに格納する\n",
    "    scalers[column_name] = preprocessing.StandardScaler().fit(train_column.values.reshape(-1, 1))\n",
    "\n",
    "# 再利用できるようシリアライズします\n",
    "with open(SCALER_PATH, 'wb') as fp:\n",
    "    fp.write(pickle.dumps(scalers))"
   ]
  },
  {
   "cell_type": "code",
   "execution_count": 51,
   "metadata": {
    "collapsed": true
   },
   "outputs": [],
   "source": [
    "# 学習済みモデルについても同様にシリアライズし, 再利用できるようにします\n",
    "model = logistic.fit(X_train, y_train)\n",
    "with open(MODEL_PATH, 'wb') as fp:\n",
    "    fp.write(pickle.dumps(model))"
   ]
  },
  {
   "cell_type": "markdown",
   "metadata": {},
   "source": [
    "ではシリアライズした学習済モデル等をロードし, 新データの不正検出をしてみましょう."
   ]
  },
  {
   "cell_type": "code",
   "execution_count": 52,
   "metadata": {
    "collapsed": true
   },
   "outputs": [],
   "source": [
    "class Predictor(object):\n",
    "    def __init__(self):\n",
    "        self.model = None\n",
    "        self.scaler = None\n",
    "        \n",
    "    def _load_scaler(self):\n",
    "        \"\"\" カラム毎の平均・分散を保持するオブジェクトをロードする\"\"\"\n",
    "        with open(SCALER_PATH, 'rb') as fp:\n",
    "            self.scaler = pickle.loads(fp.read())\n",
    "    \n",
    "    def _load_model(self):\n",
    "        \"\"\" 学習済みのモデルオブジェクトをロードする\"\"\"\n",
    "        with open(MODEL_PATH, 'rb') as fp:\n",
    "            self.model = pickle.loads(fp.read())\n",
    "            \n",
    "    def _normalize(self, df):\n",
    "        \"\"\" 正規化する\"\"\"\n",
    "        # オブジェクトをロードする\n",
    "        if self.scaler is None:\n",
    "            self._load_scaler()\n",
    "        for column_name in df.columns:\n",
    "            column_df = df[column_name]\n",
    "            df.loc[:, column_name] = self.scaler[column_name].transform(column_df.values.reshape(-1, 1))\n",
    "        return df\n",
    "                  \n",
    "    def _predict(self, df):\n",
    "        \"\"\" データを整形し, 学習済みのモデルを用いて不正かどうかを分類\"\"\"\n",
    "        # 今回は講座内容に沿って, pandasのDataFrameに新データが格納されているとします\n",
    "        # まずモデル生成時と同様にデータを整形します\n",
    "        # 不要なカラムを除く\n",
    "        drop_columns = [ 'V{}'.format(i)  for  i  in  range(15,29)] + ['Time']\n",
    "        df = df.drop(drop_columns, axis=1)\n",
    "        # 正規化\n",
    "        normalized_df = self._normalize(df)\n",
    "        # 分類\n",
    "        if self.model is None:\n",
    "            self._load_model()\n",
    "        X = normalized_df.values\n",
    "        Y = self.model.predict(X)\n",
    "        \n",
    "        # index と分類結果をdict形式で返す\n",
    "        predicts = {}\n",
    "        for x, y in zip(normalized_df.index, Y):\n",
    "            predicts[x] = y\n",
    "        return predicts"
   ]
  },
  {
   "cell_type": "code",
   "execution_count": 53,
   "metadata": {},
   "outputs": [
    {
     "data": {
      "text/plain": [
       "{0: 0, 1: 0, 2: 0, 3: 0, 4: 0, 5: 0, 6: 0, 7: 0, 8: 0, 9: 0}"
      ]
     },
     "execution_count": 53,
     "metadata": {},
     "output_type": "execute_result"
    }
   ],
   "source": [
    "# 今回は既にトレーニングデータとして使用したデータ数行を, 新データと見立てて不正検出してみます\n",
    "new_df = pd.read_csv('creditcard.csv').iloc[:10]\n",
    "new_df = new_df.drop('Class', axis=1)\n",
    "# 分類\n",
    "Predictor()._predict(new_df)"
   ]
  },
  {
   "cell_type": "markdown",
   "metadata": {},
   "source": [
    "学習済のモデルを用いて, 新データに対しても不正検出を行うことができました"
   ]
  },
  {
   "cell_type": "markdown",
   "metadata": {},
   "source": [
    "## 7. 終わりに \n",
    "\n",
    "\n",
    "インターンシップ本番では, Gunosyが日々蓄積しているデータを用いて, `実際に適用されうる, 生かされる課題`を分析し課題解決を目指して頂きます. そのため精度向上を狙うだけでなく, 一連のプロセスも自分で再現出来るようになって頂きたいです. そのためには別のデータセットに対してこの教科書のデータ分析プロセスを実行してみましょう.例えばKaggleにある他の分類問題のデータセットに取り組むと良いでしょう\n",
    "\n",
    "https://www.kaggle.com/datasets\n",
    "\n",
    "#### ※  インターンシップ本番は別の題材です\n",
    "\n",
    "教科書はこれで終了になります. インターン本番で本領を発揮できるよう`グノシーアプリの研究`もしっかり行っておいて下さい！<br>\n",
    "皆様とインターンシップでお会いできることを楽しみにしています！"
   ]
  },
  {
   "cell_type": "markdown",
   "metadata": {},
   "source": [
    "### 参考文献\n",
    "\n",
    "- numpy x 機械学習\n",
    "    - しましま先生の資料: http://www.kamishima.net/mlmpyja/\n",
    "- pandas\n",
    "    - 入門: http://www.yunabe.jp/docs/pandas_basics.html\n",
    "    - tips: http://data.gunosy.io/entry/pandas-pratical-analysis\n",
    "- kaggleカーネル\n",
    "    - https://www.kaggle.com/joparga3/in-depth-skewed-data-classif-93-recall-acc-now"
   ]
  },
  {
   "cell_type": "markdown",
   "metadata": {},
   "source": []
  }
 ],
 "metadata": {
  "anaconda-cloud": {},
  "kernelspec": {
   "display_name": "Python 3",
   "language": "python",
   "name": "python3"
  },
  "language_info": {
   "codemirror_mode": {
    "name": "ipython",
    "version": 3
   },
   "file_extension": ".py",
   "mimetype": "text/x-python",
   "name": "python",
   "nbconvert_exporter": "python",
   "pygments_lexer": "ipython3",
   "version": "3.6.1"
  }
 },
 "nbformat": 4,
 "nbformat_minor": 2
}
